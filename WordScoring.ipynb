{
 "cells": [
  {
   "cell_type": "code",
   "execution_count": 15,
   "source": [
    "import pandas as pd\n",
    "import numpy as np\n",
    "import matplotlib.pyplot as plt"
   ],
   "outputs": [],
   "metadata": {}
  },
  {
   "cell_type": "markdown",
   "source": [
    "# 0. Cargar dataframe con el corpus"
   ],
   "metadata": {}
  },
  {
   "cell_type": "code",
   "execution_count": 2,
   "source": [
    "df = pd.read_excel('DATA/corpus2.xlsx')\n",
    "df.sample(3)"
   ],
   "outputs": [
    {
     "output_type": "execute_result",
     "data": {
      "text/html": [
       "<div>\n",
       "<style scoped>\n",
       "    .dataframe tbody tr th:only-of-type {\n",
       "        vertical-align: middle;\n",
       "    }\n",
       "\n",
       "    .dataframe tbody tr th {\n",
       "        vertical-align: top;\n",
       "    }\n",
       "\n",
       "    .dataframe thead th {\n",
       "        text-align: right;\n",
       "    }\n",
       "</style>\n",
       "<table border=\"1\" class=\"dataframe\">\n",
       "  <thead>\n",
       "    <tr style=\"text-align: right;\">\n",
       "      <th></th>\n",
       "      <th>Unnamed: 0</th>\n",
       "      <th>Exc_register_id</th>\n",
       "      <th>Exc_patientCenter_id</th>\n",
       "      <th>Exc_texto_relleno</th>\n",
       "      <th>TEXTO_SIN_STOPWORDS</th>\n",
       "      <th>texto_tokenizado</th>\n",
       "      <th>Num_palabras</th>\n",
       "      <th>Mexico02</th>\n",
       "      <th>Mexico01</th>\n",
       "      <th>CurrentActivity</th>\n",
       "      <th>...</th>\n",
       "      <th>CSSRS06</th>\n",
       "      <th>CSSRS07</th>\n",
       "      <th>NSSIIS01B_Sometimes</th>\n",
       "      <th>NSSIIS01B_Last_Month_nb</th>\n",
       "      <th>T_WHODAS</th>\n",
       "      <th>T_PHQ_9</th>\n",
       "      <th>T_GAD_2</th>\n",
       "      <th>T_DAST</th>\n",
       "      <th>T_ALC</th>\n",
       "      <th>BMI</th>\n",
       "    </tr>\n",
       "  </thead>\n",
       "  <tbody>\n",
       "    <tr>\n",
       "      <th>560</th>\n",
       "      <td>1370</td>\n",
       "      <td>5de9979d2fc67632f177fdea</td>\n",
       "      <td>83226</td>\n",
       "      <td>No han sido unos meses buenos para mi pero soy...</td>\n",
       "      <td>sido meses buenos capaz salir dominar mente ve...</td>\n",
       "      <td>['sido', 'meses', 'buenos', 'capaz', 'salir', ...</td>\n",
       "      <td>9</td>\n",
       "      <td>Si</td>\n",
       "      <td>Si</td>\n",
       "      <td>Estudiante</td>\n",
       "      <td>...</td>\n",
       "      <td>No</td>\n",
       "      <td>NaN</td>\n",
       "      <td>No</td>\n",
       "      <td>0</td>\n",
       "      <td>57.0</td>\n",
       "      <td>6.0</td>\n",
       "      <td>1.0</td>\n",
       "      <td>NaN</td>\n",
       "      <td>8.0</td>\n",
       "      <td>25.099502</td>\n",
       "    </tr>\n",
       "    <tr>\n",
       "      <th>298</th>\n",
       "      <td>775</td>\n",
       "      <td>5ddebf572fc67626586ef73f</td>\n",
       "      <td>82254</td>\n",
       "      <td>PUES QUE LA ENCUESTA ESTÁ BIEN PARA CONOCER EL...</td>\n",
       "      <td>pues encuesta bien conocer ánimo cada persona ...</td>\n",
       "      <td>['pues', 'encuesta', 'bien', 'conocer', 'ánimo...</td>\n",
       "      <td>10</td>\n",
       "      <td>Si</td>\n",
       "      <td>No</td>\n",
       "      <td>Estudiante</td>\n",
       "      <td>...</td>\n",
       "      <td>No</td>\n",
       "      <td>NaN</td>\n",
       "      <td>No</td>\n",
       "      <td>0</td>\n",
       "      <td>88.2</td>\n",
       "      <td>1.0</td>\n",
       "      <td>0.0</td>\n",
       "      <td>NaN</td>\n",
       "      <td>0.0</td>\n",
       "      <td>26.528510</td>\n",
       "    </tr>\n",
       "    <tr>\n",
       "      <th>385</th>\n",
       "      <td>935</td>\n",
       "      <td>5dd564672fc676223c4849ad</td>\n",
       "      <td>80440</td>\n",
       "      <td>Por cuestiones de exámenes y por enfermedad só...</td>\n",
       "      <td>cuestiones exámenes enfermedad sólo podido dor...</td>\n",
       "      <td>['cuestiones', 'exámenes', 'enfermedad', 'sólo...</td>\n",
       "      <td>9</td>\n",
       "      <td>Si</td>\n",
       "      <td>Si</td>\n",
       "      <td>Estudiante</td>\n",
       "      <td>...</td>\n",
       "      <td>No</td>\n",
       "      <td>NaN</td>\n",
       "      <td>No</td>\n",
       "      <td>0</td>\n",
       "      <td>90.2</td>\n",
       "      <td>2.0</td>\n",
       "      <td>0.0</td>\n",
       "      <td>2.0</td>\n",
       "      <td>4.0</td>\n",
       "      <td>39.062500</td>\n",
       "    </tr>\n",
       "  </tbody>\n",
       "</table>\n",
       "<p>3 rows × 76 columns</p>\n",
       "</div>"
      ],
      "text/plain": [
       "     Unnamed: 0           Exc_register_id  Exc_patientCenter_id  \\\n",
       "560        1370  5de9979d2fc67632f177fdea                 83226   \n",
       "298         775  5ddebf572fc67626586ef73f                 82254   \n",
       "385         935  5dd564672fc676223c4849ad                 80440   \n",
       "\n",
       "                                     Exc_texto_relleno  \\\n",
       "560  No han sido unos meses buenos para mi pero soy...   \n",
       "298  PUES QUE LA ENCUESTA ESTÁ BIEN PARA CONOCER EL...   \n",
       "385  Por cuestiones de exámenes y por enfermedad só...   \n",
       "\n",
       "                                   TEXTO_SIN_STOPWORDS  \\\n",
       "560  sido meses buenos capaz salir dominar mente ve...   \n",
       "298  pues encuesta bien conocer ánimo cada persona ...   \n",
       "385  cuestiones exámenes enfermedad sólo podido dor...   \n",
       "\n",
       "                                      texto_tokenizado  Num_palabras Mexico02  \\\n",
       "560  ['sido', 'meses', 'buenos', 'capaz', 'salir', ...             9       Si   \n",
       "298  ['pues', 'encuesta', 'bien', 'conocer', 'ánimo...            10       Si   \n",
       "385  ['cuestiones', 'exámenes', 'enfermedad', 'sólo...             9       Si   \n",
       "\n",
       "    Mexico01 CurrentActivity  ... CSSRS06  CSSRS07  NSSIIS01B_Sometimes  \\\n",
       "560       Si      Estudiante  ...      No      NaN                   No   \n",
       "298       No      Estudiante  ...      No      NaN                   No   \n",
       "385       Si      Estudiante  ...      No      NaN                   No   \n",
       "\n",
       "    NSSIIS01B_Last_Month_nb  T_WHODAS T_PHQ_9 T_GAD_2 T_DAST T_ALC        BMI  \n",
       "560                       0      57.0     6.0     1.0    NaN   8.0  25.099502  \n",
       "298                       0      88.2     1.0     0.0    NaN   0.0  26.528510  \n",
       "385                       0      90.2     2.0     0.0    2.0   4.0  39.062500  \n",
       "\n",
       "[3 rows x 76 columns]"
      ]
     },
     "metadata": {},
     "execution_count": 2
    }
   ],
   "metadata": {}
  },
  {
   "cell_type": "markdown",
   "source": [
    "Definimos la columna de texto y de etiqueta"
   ],
   "metadata": {}
  },
  {
   "cell_type": "code",
   "execution_count": 3,
   "source": [
    "text_col_name = \"TEXTO_SIN_STOPWORDS\"\n",
    "label_col_name = \"T_GAD_2\""
   ],
   "outputs": [],
   "metadata": {}
  },
  {
   "cell_type": "markdown",
   "source": [
    "Eliminar las columnas sin etiqueta"
   ],
   "metadata": {}
  },
  {
   "cell_type": "code",
   "execution_count": 4,
   "source": [
    "df.dropna(subset=[label_col_name],inplace=True)\n",
    "df.reset_index(drop=True,inplace=True)"
   ],
   "outputs": [],
   "metadata": {}
  },
  {
   "cell_type": "markdown",
   "source": [
    "# 1. Obtener palabras prototípicas"
   ],
   "metadata": {}
  },
  {
   "cell_type": "code",
   "execution_count": 5,
   "source": [
    "from SentimentKW import KW\n",
    "\n",
    "keywords = KW(df,text_col_name=text_col_name, label_col_name=label_col_name)"
   ],
   "outputs": [
    {
     "output_type": "stream",
     "name": "stderr",
     "text": [
      "/home/wini/.local/lib/python3.8/site-packages/tensorboard/compat/tensorflow_stub/dtypes.py:541: FutureWarning: Passing (type, 1) or '1type' as a synonym of type is deprecated; in a future version of numpy, it will be understood as (type, (1,)) / '(1,)type'.\n",
      "  _np_qint8 = np.dtype([(\"qint8\", np.int8, 1)])\n",
      "/home/wini/.local/lib/python3.8/site-packages/tensorboard/compat/tensorflow_stub/dtypes.py:542: FutureWarning: Passing (type, 1) or '1type' as a synonym of type is deprecated; in a future version of numpy, it will be understood as (type, (1,)) / '(1,)type'.\n",
      "  _np_quint8 = np.dtype([(\"quint8\", np.uint8, 1)])\n",
      "/home/wini/.local/lib/python3.8/site-packages/tensorboard/compat/tensorflow_stub/dtypes.py:543: FutureWarning: Passing (type, 1) or '1type' as a synonym of type is deprecated; in a future version of numpy, it will be understood as (type, (1,)) / '(1,)type'.\n",
      "  _np_qint16 = np.dtype([(\"qint16\", np.int16, 1)])\n",
      "/home/wini/.local/lib/python3.8/site-packages/tensorboard/compat/tensorflow_stub/dtypes.py:544: FutureWarning: Passing (type, 1) or '1type' as a synonym of type is deprecated; in a future version of numpy, it will be understood as (type, (1,)) / '(1,)type'.\n",
      "  _np_quint16 = np.dtype([(\"quint16\", np.uint16, 1)])\n",
      "/home/wini/.local/lib/python3.8/site-packages/tensorboard/compat/tensorflow_stub/dtypes.py:545: FutureWarning: Passing (type, 1) or '1type' as a synonym of type is deprecated; in a future version of numpy, it will be understood as (type, (1,)) / '(1,)type'.\n",
      "  _np_qint32 = np.dtype([(\"qint32\", np.int32, 1)])\n",
      "/home/wini/.local/lib/python3.8/site-packages/tensorboard/compat/tensorflow_stub/dtypes.py:550: FutureWarning: Passing (type, 1) or '1type' as a synonym of type is deprecated; in a future version of numpy, it will be understood as (type, (1,)) / '(1,)type'.\n",
      "  np_resource = np.dtype([(\"resource\", np.ubyte, 1)])\n"
     ]
    }
   ],
   "metadata": {}
  },
  {
   "cell_type": "code",
   "execution_count": 6,
   "source": [
    "W0 = keywords.get_kw(topn=100)\n",
    "list(W0.items())[:10]"
   ],
   "outputs": [
    {
     "output_type": "execute_result",
     "data": {
      "text/plain": [
       "[('emocionalmente', -0.14809844998105143),\n",
       " ('llegado', -0.09607385741815412),\n",
       " ('dos', -0.19999999887944073),\n",
       " ('dormido', -0.24603174552463677),\n",
       " ('1', -0.21070685294285252),\n",
       " ('sociedad', -0.36681397422681805),\n",
       " ('sistema', -0.2375631894335679),\n",
       " ('voy', -0.21211158183308065),\n",
       " ('esperanza', -0.1936855445400245),\n",
       " ('país', 0.2618617641912693)]"
      ]
     },
     "metadata": {},
     "execution_count": 6
    }
   ],
   "metadata": {}
  },
  {
   "cell_type": "markdown",
   "source": [
    "# 2. Entrenar modelo de word2vec"
   ],
   "metadata": {}
  },
  {
   "cell_type": "code",
   "execution_count": 25,
   "source": [
    "from gensim.models import Word2Vec\n",
    "\n",
    "tokens = [x.split() for x in list(df[text_col_name].values)]\n",
    "print(tokens[:2])\n",
    "\n",
    "dim = 100\n",
    "W2V_model = Word2Vec(tokens, min_count=1, vector_size=dim, workers=4, window=5)\n",
    "W2V_model.save(\"DATA/w2v-TEXTO_SIN_STOPWORDS.model\")"
   ],
   "outputs": [
    {
     "output_type": "stream",
     "name": "stdout",
     "text": [
      "[['persona', 'hipersensible', 'extremadamente', 'emocional', 'asisto', 'terapia', 'dbt', 'dialectical', 'behavor', 'therapy', 'mejorado', 'manera', 'gradual', 'manejo', 'emociones', 'conductas'], ['mantengo', 'relaciones', 'sexuales', 'si', 'puse', 'si', 'estable']]\n"
     ]
    }
   ],
   "metadata": {}
  },
  {
   "cell_type": "markdown",
   "source": [
    "También se puede entrenar el módelo en FastText"
   ],
   "metadata": {}
  },
  {
   "cell_type": "code",
   "execution_count": 98,
   "source": [
    "from gensim.models import FastText\n",
    "\n",
    "dim = 100\n",
    "FT_model = FastText(tokens, min_count=1, vector_size=dim, workers=4, window=5)\n",
    "\n",
    "# Suele ser un archivo grande\n",
    "# FT_model.save(\"DATA/FT-TEXTO_SIN_STOPWORDS.model\")   "
   ],
   "outputs": [],
   "metadata": {}
  },
  {
   "cell_type": "markdown",
   "source": [
    "# 3. Word Scoring\n",
    "\n",
    "Más información y detalles sobre el uso de esta clase: [https://github.com/labsemco/word-scoring](https://github.com/labsemco/word-scoring)"
   ],
   "metadata": {}
  },
  {
   "cell_type": "markdown",
   "source": [
    "Leemos el modelo pre-entrenado que vayamos a usar"
   ],
   "metadata": {}
  },
  {
   "cell_type": "code",
   "execution_count": 7,
   "source": [
    "from scoring import Scoring\n",
    "from gensim.models import Word2Vec\n",
    "\n",
    "w2v_model = Word2Vec.load(\"DATA/w2v-TEXTO_SIN_STOPWORDS.model\")\n",
    "\n",
    "puntaje = Scoring(w2vmodel=w2v_model,W0=W0)"
   ],
   "outputs": [],
   "metadata": {}
  },
  {
   "cell_type": "markdown",
   "source": [
    "Si es la primera vez que se ejecuta, o se modificaron los embeddings o palabras prototípicas, correr esta celda:"
   ],
   "metadata": {}
  },
  {
   "cell_type": "code",
   "execution_count": 8,
   "source": [
    "puntaje.build_neighbors(alpha=0.5)\n",
    "\n",
    "puntaje.save_neighbors(\"DATA/vecinos-dict.pickle\")"
   ],
   "outputs": [
    {
     "output_type": "stream",
     "name": "stdout",
     "text": [
      "Neighbors dictionary saved.\n"
     ]
    }
   ],
   "metadata": {}
  },
  {
   "cell_type": "markdown",
   "source": [
    "Si no se ha modificado los embeddings o las palabras prototípicas, puede leerse el diccionario de vecinos, para no calcularlo otra vez."
   ],
   "metadata": {}
  },
  {
   "cell_type": "code",
   "execution_count": 9,
   "source": [
    "puntaje.load_neighbors(\"DATA/vecinos-dict.pickle\")"
   ],
   "outputs": [],
   "metadata": {}
  },
  {
   "cell_type": "markdown",
   "source": [
    "Calcular el puntaje de palabras"
   ],
   "metadata": {}
  },
  {
   "cell_type": "code",
   "execution_count": 10,
   "source": [
    "scores_df = puntaje.transform(df=df,text_col=text_col_name,label_col=label_col_name,beta1=1,beta2=1)\n",
    "scores_df.sort_values(by='score',ascending=False)"
   ],
   "outputs": [
    {
     "output_type": "execute_result",
     "data": {
      "text/html": [
       "<div>\n",
       "<style scoped>\n",
       "    .dataframe tbody tr th:only-of-type {\n",
       "        vertical-align: middle;\n",
       "    }\n",
       "\n",
       "    .dataframe tbody tr th {\n",
       "        vertical-align: top;\n",
       "    }\n",
       "\n",
       "    .dataframe thead th {\n",
       "        text-align: right;\n",
       "    }\n",
       "</style>\n",
       "<table border=\"1\" class=\"dataframe\">\n",
       "  <thead>\n",
       "    <tr style=\"text-align: right;\">\n",
       "      <th></th>\n",
       "      <th>word</th>\n",
       "      <th>score</th>\n",
       "    </tr>\n",
       "  </thead>\n",
       "  <tbody>\n",
       "    <tr>\n",
       "      <th>955</th>\n",
       "      <td>maestro</td>\n",
       "      <td>0.999998</td>\n",
       "    </tr>\n",
       "    <tr>\n",
       "      <th>1365</th>\n",
       "      <td>migrañas</td>\n",
       "      <td>0.999993</td>\n",
       "    </tr>\n",
       "    <tr>\n",
       "      <th>1857</th>\n",
       "      <td>corté</td>\n",
       "      <td>0.999993</td>\n",
       "    </tr>\n",
       "    <tr>\n",
       "      <th>1877</th>\n",
       "      <td>departamento</td>\n",
       "      <td>0.999993</td>\n",
       "    </tr>\n",
       "    <tr>\n",
       "      <th>1875</th>\n",
       "      <td>borges</td>\n",
       "      <td>0.999993</td>\n",
       "    </tr>\n",
       "    <tr>\n",
       "      <th>...</th>\n",
       "      <td>...</td>\n",
       "      <td>...</td>\n",
       "    </tr>\n",
       "    <tr>\n",
       "      <th>634</th>\n",
       "      <td>cerveza</td>\n",
       "      <td>-0.547604</td>\n",
       "    </tr>\n",
       "    <tr>\n",
       "      <th>640</th>\n",
       "      <td>ciudad</td>\n",
       "      <td>-0.561240</td>\n",
       "    </tr>\n",
       "    <tr>\n",
       "      <th>855</th>\n",
       "      <td>cuadro</td>\n",
       "      <td>-0.586400</td>\n",
       "    </tr>\n",
       "    <tr>\n",
       "      <th>462</th>\n",
       "      <td>herramienta</td>\n",
       "      <td>-0.634413</td>\n",
       "    </tr>\n",
       "    <tr>\n",
       "      <th>529</th>\n",
       "      <td>felicidad</td>\n",
       "      <td>-0.731679</td>\n",
       "    </tr>\n",
       "  </tbody>\n",
       "</table>\n",
       "<p>2500 rows × 2 columns</p>\n",
       "</div>"
      ],
      "text/plain": [
       "              word     score\n",
       "955        maestro  0.999998\n",
       "1365      migrañas  0.999993\n",
       "1857         corté  0.999993\n",
       "1877  departamento  0.999993\n",
       "1875        borges  0.999993\n",
       "...            ...       ...\n",
       "634        cerveza -0.547604\n",
       "640         ciudad -0.561240\n",
       "855         cuadro -0.586400\n",
       "462    herramienta -0.634413\n",
       "529      felicidad -0.731679\n",
       "\n",
       "[2500 rows x 2 columns]"
      ]
     },
     "metadata": {},
     "execution_count": 10
    }
   ],
   "metadata": {}
  },
  {
   "cell_type": "markdown",
   "source": [
    "# 4. Clasificación"
   ],
   "metadata": {}
  },
  {
   "cell_type": "code",
   "execution_count": 26,
   "source": [
    "import seaborn as sns\n",
    "\n",
    "def show_confusion_matrix(confusion_matrix):\n",
    "  plt.figure(dpi=120)\n",
    "  hmap = sns.heatmap(confusion_matrix, annot=True, fmt=\"d\", cmap=\"Blues\")\n",
    "  new_xticks =  [str(int(x.get_text())+1) for x in hmap.xaxis.get_ticklabels()]\n",
    "  new_yticks =  [str(int(x.get_text())+1) for x in hmap.yaxis.get_ticklabels()]\n",
    "  hmap.xaxis.set_ticklabels(new_xticks, rotation=0, ha='right')\n",
    "  hmap.yaxis.set_ticklabels(new_yticks, rotation=0, ha='right')\n",
    "  plt.ylabel('True label')\n",
    "  plt.xlabel('Predicted label')\n",
    "  plt.show()"
   ],
   "outputs": [],
   "metadata": {}
  },
  {
   "cell_type": "markdown",
   "source": [
    "## 4.1 Representación de textos usando promedios\n",
    "\n",
    "Obtenemos una matriz de vectores de features representando a cada entidad de texto. Estas representaciones sirven para realizar la clasificación y predicción de etiquetas, usando métodos de ML.\n",
    "\n",
    "Hay tres opciones:\n",
    "\n",
    "* Representación promedio `get_texts_representations_mean()`\n",
    "* Representación promedio parcial `get_texts_representations_Nmean()`\n",
    "* Representación PCA `get_texts_representations_PCA()`"
   ],
   "metadata": {}
  },
  {
   "cell_type": "code",
   "execution_count": 30,
   "source": [
    "# Escoger una de las tres:\n",
    "\n",
    "X = puntaje.get_texts_representations_mean()\n",
    "# X = puntaje.get_texts_representations_Nmean(n=3)\n",
    "# X = puntaje.get_texts_representations_PCA()\n",
    "\n",
    "X[:3,:5]"
   ],
   "outputs": [
    {
     "output_type": "execute_result",
     "data": {
      "text/plain": [
       "array([[ 3.26507760e-04,  1.64398786e-04, -4.24194999e-07,\n",
       "        -8.22981181e-05, -4.00654098e-04],\n",
       "       [ 1.43637436e-03, -1.89211169e-03,  1.23054166e-05,\n",
       "        -8.33063587e-04,  7.08011296e-04],\n",
       "       [ 2.12547999e-03, -1.62139633e-03, -4.23365427e-04,\n",
       "        -2.91242519e-05, -1.09895640e-03]])"
      ]
     },
     "metadata": {},
     "execution_count": 30
    }
   ],
   "metadata": {}
  },
  {
   "cell_type": "markdown",
   "source": [
    "La clasificación puede hacerse usando cualquier clasificador (k-nearest neighbors, Naive Bayes, xgboost, etc.). La implementación es similar a esta."
   ],
   "metadata": {}
  },
  {
   "cell_type": "code",
   "execution_count": 50,
   "source": [
    "from sklearn.model_selection import train_test_split\n",
    "from sklearn.svm import SVC\n",
    "from sklearn.metrics import accuracy_score,recall_score,multilabel_confusion_matrix, roc_auc_score,confusion_matrix\n",
    "from keras.utils import to_categorical\n",
    "\n",
    "# Vector de etiquetas\n",
    "y = df[label_col_name].values\n",
    "\n",
    "# Entrenamiento y predicción\n",
    "X_train, X_test, y_train, y_test = train_test_split(X, y, test_size=0.15, random_state=28)\n",
    "svm = SVC(kernel='rbf', C=1)\n",
    "svm_model = svm.fit(X_train,y_train)\n",
    "y_pred = svm_model.predict(X_test)\n",
    "\n",
    "# Obtenemos las métricas de la clasificación\n",
    "accuracy = accuracy_score(y_test, y_pred)\n",
    "recall = recall_score(y_test,y_pred,average='macro')\n",
    "roc = roc_auc_score(to_categorical(y_test, n_classes),\n",
    "                    to_categorical(y_pred, n_classes),\n",
    "                    multi_class=\"ovr\")\n",
    "cm = confusion_matrix(y_test,y_pred)\n",
    "\n",
    "print(f\"Accuracy: {accuracy}\")\n",
    "print(f\"Recall: {recall}\")\n",
    "print(f\"ROC: {roc}\")\n",
    "show_confusion_matrix(cm)\n"
   ],
   "outputs": [
    {
     "output_type": "stream",
     "name": "stdout",
     "text": [
      "Accuracy: 0.3220338983050847\n",
      "Recall: 0.20121566413126515\n",
      "ROC: 0.5365423362165306\n"
     ]
    },
    {
     "output_type": "display_data",
     "data": {
      "image/png": "[encoded data removed]",
      "text/plain": [
       "<Figure size 720x480 with 2 Axes>"
      ]
     },
     "metadata": {
      "needs_background": "light"
     }
    }
   ],
   "metadata": {}
  },
  {
   "cell_type": "markdown",
   "source": [
    "## 4.2 Representaciones usando matrices y CNN"
   ],
   "metadata": {}
  },
  {
   "cell_type": "markdown",
   "source": [
    "También puede hacerse la clasificación usando una red neuronal convolucional, usando representaciones matriciales de mensajes. \n",
    "\n",
    "IMPORTANTE: Necesita la tarjeta gráfica, puede correrse en colab."
   ],
   "metadata": {}
  },
  {
   "cell_type": "code",
   "execution_count": 12,
   "source": [
    "from sklearn.model_selection import train_test_split\n",
    "\n",
    "X = puntaje.get_texts_representations_MAT(cols_num=5)  # Puede experimentarse con el valor de cols_num, debe ser mayor o igual que 2.\n",
    "y = df[label_col_name].values\n",
    "\n",
    "print(\"X:\",X.shape)\n",
    "print(\"y:\",y.shape)\n",
    "\n",
    "X_train, X_test, y_train, y_test = train_test_split(X, y, test_size=0.2, random_state=28)\n",
    "\n",
    "val_size = int(0.85*X_train.shape[0])\n",
    "X_val = X_train[val_size:]\n",
    "y_val = y_train[val_size:]\n",
    "X_train = X_train[:val_size]\n",
    "y_train = y_train[:val_size]\n",
    "print(\"Train:\",X_train.shape,y_train.shape)\n",
    "print(\"Validation:\",X_val.shape,y_val.shape)\n",
    "print(\"Test:\",X_test.shape,y_test.shape)"
   ],
   "outputs": [
    {
     "output_type": "stream",
     "name": "stdout",
     "text": [
      "X: (781, 100, 5)\n",
      "y: (781,)\n",
      "Train: (530, 100, 5) (530,)\n",
      "Validation: (94, 100, 5) (94,)\n",
      "Test: (157, 100, 5) (157,)\n"
     ]
    }
   ],
   "metadata": {}
  },
  {
   "cell_type": "code",
   "execution_count": 13,
   "source": [
    "import tensorflow as tf\n",
    "\n",
    "from keras.models import Sequential\n",
    "from keras.layers import Dense, Dropout, Conv2D, MaxPool2D, Flatten\n",
    "from keras.utils import np_utils\n",
    "from sklearn.metrics import accuracy_score\n",
    "\n",
    "import logging\n",
    "logging.getLogger('tensorflow').setLevel(logging.ERROR)\n",
    "\n",
    "n_classes = len(keywords.labels)\n",
    "\n",
    "print(f\"Las representaciones de los mensajes son de {X_train.shape[0]}x{X_train.shape[1]}\")\n",
    "\n",
    "X_train = X_train.reshape(X_train.shape[0], X_train.shape[1], X_train.shape[2], 1)\n",
    "X_val = X_val.reshape(X_val.shape[0], X_val.shape[1], X_val.shape[2], 1)\n",
    "X_test = X_test.reshape(X_test.shape[0], X_test.shape[1], X_test.shape[2], 1)\n",
    "X_train = X_train.astype('float32')\n",
    "X_test = X_test.astype('float32')\n",
    "X_val = X_val.astype('float32')\n",
    "\n",
    "# one-hot encoding:\n",
    "Y_train = np_utils.to_categorical(y_train, n_classes)\n",
    "Y_val = np_utils.to_categorical(y_val, n_classes)\n",
    "Y_test = np_utils.to_categorical(y_test, n_classes)\n",
    "\n",
    "tf.keras.backend.clear_session()\n",
    "\n",
    "model = Sequential()\n",
    "model.add(Conv2D(25, kernel_size=(3,3), strides=(1,1), padding='valid', activation='relu', \n",
    "                            input_shape=(X_train.shape[1],X_train.shape[2],1)))\n",
    "model.add(MaxPool2D(pool_size=(1,1)))\n",
    "model.add(Flatten())\n",
    "model.add(Dense(100, activation='relu'))\n",
    "model.add(Dense(n_classes, activation='softmax'))\n",
    "\n",
    "model.compile(loss='categorical_crossentropy', metrics=['accuracy'], optimizer='adam')\n",
    "\n",
    "# entrenar el modelo:\n",
    "early_callback = tf.keras.callbacks.EarlyStopping(monitor='val_loss',patience=3)\n",
    "history = model.fit(X_train, Y_train, batch_size=16, epochs=200, validation_data=(X_val, Y_val)\n",
    "            ,callbacks=[early_callback])\n",
    "\n",
    "score = model.evaluate(X_test, Y_test)"
   ],
   "outputs": [
    {
     "output_type": "stream",
     "name": "stderr",
     "text": [
      "Using TensorFlow backend.\n"
     ]
    },
    {
     "output_type": "stream",
     "name": "stdout",
     "text": [
      "Las representaciones de los mensajes son de 530x100\n",
      "Shape before one-hot encoding:  (530,)\n",
      "Shape after one-hot encoding:  (530, 7)\n",
      "Train on 530 samples, validate on 94 samples\n",
      "Epoch 1/200\n",
      "530/530 [==============================] - 1s 2ms/step - loss: 1.7859 - accuracy: 0.2623 - val_loss: 1.7101 - val_accuracy: 0.2979\n",
      "Epoch 2/200\n",
      "530/530 [==============================] - 0s 269us/step - loss: 1.6568 - accuracy: 0.3226 - val_loss: 1.5946 - val_accuracy: 0.2979\n",
      "Epoch 3/200\n",
      "530/530 [==============================] - 0s 319us/step - loss: 1.6028 - accuracy: 0.3509 - val_loss: 1.5766 - val_accuracy: 0.3085\n",
      "Epoch 4/200\n",
      "530/530 [==============================] - 0s 283us/step - loss: 1.5175 - accuracy: 0.3906 - val_loss: 1.5889 - val_accuracy: 0.3085\n",
      "Epoch 5/200\n",
      "530/530 [==============================] - 0s 283us/step - loss: 1.4361 - accuracy: 0.4736 - val_loss: 1.5784 - val_accuracy: 0.3085\n",
      "Epoch 6/200\n",
      "530/530 [==============================] - 0s 258us/step - loss: 1.3698 - accuracy: 0.4943 - val_loss: 1.5579 - val_accuracy: 0.2872\n",
      "Epoch 7/200\n",
      "530/530 [==============================] - 0s 277us/step - loss: 1.2837 - accuracy: 0.5415 - val_loss: 1.6548 - val_accuracy: 0.2872\n",
      "Epoch 8/200\n",
      "530/530 [==============================] - 0s 268us/step - loss: 1.1942 - accuracy: 0.5962 - val_loss: 1.6153 - val_accuracy: 0.2979\n",
      "Epoch 9/200\n",
      "530/530 [==============================] - 0s 315us/step - loss: 1.1360 - accuracy: 0.5642 - val_loss: 1.6136 - val_accuracy: 0.2872\n",
      "157/157 [==============================] - 0s 135us/step\n"
     ]
    }
   ],
   "metadata": {}
  },
  {
   "cell_type": "markdown",
   "source": [
    "Graficamos las curvas de entrenamiento"
   ],
   "metadata": {}
  },
  {
   "cell_type": "code",
   "execution_count": 20,
   "source": [
    "plt.figure(dpi=100)\n",
    "plt.plot(history.history['loss'])\n",
    "plt.plot(history.history['val_loss'])\n",
    "plt.title('model loss')\n",
    "plt.ylabel('loss')\n",
    "plt.xlabel('epoch')\n",
    "plt.legend(['train', 'validation'], loc='upper left')\n",
    "plt.show()\n",
    "\n",
    "plt.figure(dpi=100)\n",
    "plt.plot(history.history['accuracy'], label='train')\n",
    "plt.plot(history.history['val_accuracy'], label='test')\n",
    "plt.title('model accuracy')\n",
    "plt.ylabel('accuracy')\n",
    "plt.xlabel('epoch')\n",
    "plt.legend(['train', 'validation'], loc='upper left')\n",
    "plt.show()"
   ],
   "outputs": [
    {
     "output_type": "display_data",
     "data": {
      "image/png": "[encoded data removed]",
      "text/plain": [
       "<Figure size 600x400 with 1 Axes>"
      ]
     },
     "metadata": {
      "needs_background": "light"
     }
    },
    {
     "output_type": "display_data",
     "data": {
      "image/png": "[encoded data removed]",
      "text/plain": [
       "<Figure size 600x400 with 1 Axes>"
      ]
     },
     "metadata": {
      "needs_background": "light"
     }
    }
   ],
   "metadata": {}
  },
  {
   "cell_type": "code",
   "execution_count": 30,
   "source": [
    "from sklearn.metrics import roc_auc_score, accuracy_score, recall_score, confusion_matrix\n",
    "from keras.utils import to_categorical\n",
    "\n",
    "print (f\"Test loss: {round(score[0],3)}\")\n",
    "print (f\"Test accuracy: {round(score[1]*100,2)}%\")\n",
    "\n",
    "Y_pred = model.predict(X_test)\n",
    "\n",
    "roc = roc_auc_score(Y_test,Y_pred,multi_class=\"ovr\")\n",
    "accuracy = accuracy_score(np.argmax(Y_test,axis=1),np.argmax(Y_pred,axis=1))\n",
    "recall = recall_score(np.argmax(Y_test,axis=1),np.argmax(Y_pred,axis=1),average='macro')\n",
    "cm = confusion_matrix(np.argmax(Y_test,axis=1),np.argmax(Y_pred,axis=1))\n",
    "\n",
    "print(f\"ROC: {roc}\")\n",
    "print(f\"Accuracy: {accuracy}\")\n",
    "print(f\"Recall: {recall}\")\n",
    "show_confusion_matrix(cm)"
   ],
   "outputs": [
    {
     "output_type": "stream",
     "name": "stdout",
     "text": [
      "Test loss: 1.805\n",
      "Test accuracy: 31.85%\n",
      "ROC: 0.6091924209584624\n",
      "Accuracy: 0.3184713375796178\n",
      "Recall: 0.18933020882771712\n"
     ]
    },
    {
     "output_type": "display_data",
     "data": {
      "image/png": "[encoded data removed]",
      "text/plain": [
       "<Figure size 720x480 with 2 Axes>"
      ]
     },
     "metadata": {
      "needs_background": "light"
     }
    }
   ],
   "metadata": {}
  }
 ],
 "metadata": {
  "orig_nbformat": 4,
  "language_info": {
   "name": "python",
   "version": "3.8.10",
   "mimetype": "text/x-python",
   "codemirror_mode": {
    "name": "ipython",
    "version": 3
   },
   "pygments_lexer": "ipython3",
   "nbconvert_exporter": "python",
   "file_extension": ".py"
  },
  "kernelspec": {
   "name": "python3",
   "display_name": "Python 3.8.10 64-bit"
  },
  "interpreter": {
   "hash": "916dbcbb3f70747c44a77c7bcd40155683ae19c65e1c03b4aa3499c5328201f1"
  }
 },
 "nbformat": 4,
 "nbformat_minor": 2
}