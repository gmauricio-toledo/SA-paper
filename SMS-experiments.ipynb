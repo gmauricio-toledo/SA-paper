{
 "cells": [
  {
   "cell_type": "code",
   "execution_count": 1,
   "metadata": {},
   "outputs": [],
   "source": [
    "from gensim.models import Word2Vec\n",
    "from scoring import Scoring\n",
    "import pandas as pd\n",
    "import numpy as np"
   ]
  },
  {
   "cell_type": "markdown",
   "metadata": {},
   "source": [
    "# Iterative approach using vector representation of messages"
   ]
  },
  {
   "cell_type": "code",
   "execution_count": 12,
   "metadata": {},
   "outputs": [],
   "source": [
    "# ---- Leemos el primer diccionario de palabras prototípicas ----\n",
    "# lista_asela_df = pd.read_csv('data/palabras_asela.csv')\n",
    "# lista_asela_df.drop(columns=['Positiva o Negativa'],inplace=True)\n",
    "# lista_asela_df.rename(columns={'Unnamed: 0':'word' , 'pos-neg':'prescore'},inplace=True)\n",
    "# W0_dict = dict(zip(lista_asela_df['word'].values,lista_asela_df['prescore'].values))\n",
    "\n",
    "\n",
    "# ---- Leemos el diccionario de palabras prototípicas de Alba ----\n",
    "# lista_alba_df = pd.read_csv('data/clinical-prescores.csv',index_col=0)\n",
    "# lista_alba_df['c-prescore'] = 0.2*lista_alba_df['c-prescore']\n",
    "# lista_alba_df.rename(columns={'c-prescore':'prescore'},inplace=True)\n",
    "# W0_dict = dict(zip(lista_alba_df['word'].values,lista_alba_df['prescore'].values))\n",
    "\n",
    "# ---- Leemos el diccionario de palabras prototípicas automáticas ----\n",
    "W0_dict = pd.read_pickle(\"data/palabras_auto.pickle\")\n",
    "\n",
    "w2v_model = Word2Vec.load(\"data/word2vec.model\")\n",
    "\n",
    "# ---- Leemos los mensajes ----\n",
    "msjs_df = pd.read_csv(\"data/sms_full_dataframe.csv\",index_col=0)\n",
    "msjs_df['Normalized Label'] = (2/5)*msjs_df['ds'].values-1\n",
    "y = msjs_df['ds'].values"
   ]
  },
  {
   "cell_type": "code",
   "execution_count": 13,
   "metadata": {},
   "outputs": [],
   "source": [
    "import xgboost as xgb\n",
    "from sklearn.svm import SVC\n",
    "\n",
    "def clasificador(x_train,y_train,x_test,y_test,method='svc'):\n",
    "    if method=='svc':\n",
    "        clf = SVC(kernel='rbf')\n",
    "        clf.fit(X=x_train,y=y_train)\n",
    "        y_pred = clf.predict(x_test)\n",
    "    elif method=='xgb':\n",
    "        num_round = 10\n",
    "        dtrain = xgb.DMatrix(x_train, label=y_train)\n",
    "        dtest = xgb.DMatrix(x_test, label=y_test)\n",
    "        # DEFINIR LOS PARÁMETROS\n",
    "        param = {'max_depth': 2, 'eta': 1, 'objective': 'multi:softmax',\n",
    "                'nthread': 4, 'num_class': 6}\n",
    "        evallist = [(dtest, 'eval'), (dtrain, 'train')]\n",
    "        # HACER EL ENTRENAMIENTO USANDO XGBOOST\n",
    "        bst = xgb.train(param, dtrain, num_round, evallist, verbose_eval=True)  \n",
    "        y_pred = bst.predict(dtest)\n",
    "        y_pred = [round(value) for value in y_pred]\n",
    "    return y_pred"
   ]
  },
  {
   "cell_type": "code",
   "execution_count": null,
   "metadata": {},
   "outputs": [],
   "source": [
    "from sklearn.model_selection import train_test_split\n",
    "from sklearn.metrics import accuracy_score, recall_score, precision_score\n",
    "\n",
    "\n",
    "n_iterations = 5\n",
    "\n",
    "accs = []\n",
    "precs = []\n",
    "recs = []\n",
    "\n",
    "for k in range(n_iterations):\n",
    "    puntaje = Scoring(w2vmodel=w2v_model,W0=W0_dict)\n",
    "    puntaje.build_neighbors(alpha=0.95)\n",
    "    scores_df = puntaje.transform(df=msjs_df,text_col=\"Texto\",label_col=\"Normalized Label\",beta1=0.5,beta2=5.5)\n",
    "    W0_dict = dict(zip(scores_df['word'].values,scores_df['score'].values))\n",
    "    _ = puntaje.get_words_representations(mode='mean')\n",
    "    # X_msjs_rep = puntaje.get_texts_representations_Nmean(n=4)\n",
    "    # X_msjs_rep = puntaje.get_texts_representations_mean()\n",
    "    X_msjs_rep = puntaje.get_texts_representations_PCA()\n",
    "    X_train, X_test, y_train, y_test = train_test_split(X_msjs_rep, y, random_state=331,train_size=0.75) \n",
    "    y_pred = clasificador(X_train,y_train,X_test,y_test,method='xgb')\n",
    "    print(np.unique(y_pred))\n",
    "    accs.append(accuracy_score(y_test,y_pred))\n",
    "    recs.append(recall_score(y_test,y_pred,average='macro'))\n",
    "    precs.append(precision_score(y_test,y_pred,average='macro'))\n",
    "    print(f\"{k+1}/{n_iterations} done...\")"
   ]
  },
  {
   "cell_type": "code",
   "execution_count": 15,
   "metadata": {},
   "outputs": [
    {
     "data": {
      "image/png": "[encoded data removed]",
      "text/plain": [
       "<Figure size 600x400 with 1 Axes>"
      ]
     },
     "metadata": {
      "needs_background": "light"
     },
     "output_type": "display_data"
    }
   ],
   "source": [
    "import matplotlib.pyplot as plt\n",
    "\n",
    "title = \"Auto-prescores método iterativo (pca) alpha=0.95 xgb\"\n",
    "\n",
    "plt.figure(dpi=100)\n",
    "plt.suptitle(title)\n",
    "plt.plot(range(n_iterations),accs,label='Accuracy')\n",
    "plt.plot(range(n_iterations),precs,label='Precision')\n",
    "plt.plot(range(n_iterations),recs,label='Recall')\n",
    "plt.xticks([k for k in range(n_iterations)])\n",
    "plt.legend(loc='best')\n",
    "plt.savefig(title+\".png\")\n",
    "plt.show()\n"
   ]
  },
  {
   "cell_type": "code",
   "execution_count": 18,
   "metadata": {},
   "outputs": [
    {
     "name": "stdout",
     "output_type": "stream",
     "text": [
      "[0.4741442097596504, 0.47560087399854334, 0.47560087399854334, 0.47560087399854334, 0.47560087399854334]\n",
      "[0.5640907825118352, 0.6070353649360422, 0.6070353649360422, 0.6070353649360422, 0.6070353649360422]\n",
      "[0.19016227365209104, 0.19192571671077022, 0.19192571671077022, 0.19192571671077022, 0.19192571671077022]\n"
     ]
    }
   ],
   "source": [
    "print(accs)\n",
    "print(precs)\n",
    "print(recs)"
   ]
  },
  {
   "cell_type": "markdown",
   "metadata": {},
   "source": [
    "# Probar el API de Scoring"
   ]
  },
  {
   "cell_type": "code",
   "execution_count": 1,
   "metadata": {},
   "outputs": [
    {
     "data": {
      "text/html": [
       "<div>\n",
       "<style scoped>\n",
       "    .dataframe tbody tr th:only-of-type {\n",
       "        vertical-align: middle;\n",
       "    }\n",
       "\n",
       "    .dataframe tbody tr th {\n",
       "        vertical-align: top;\n",
       "    }\n",
       "\n",
       "    .dataframe thead th {\n",
       "        text-align: right;\n",
       "    }\n",
       "</style>\n",
       "<table border=\"1\" class=\"dataframe\">\n",
       "  <thead>\n",
       "    <tr style=\"text-align: right;\">\n",
       "      <th></th>\n",
       "      <th>Llave</th>\n",
       "      <th>Paciente</th>\n",
       "      <th>Sexo</th>\n",
       "      <th>cal_vida</th>\n",
       "      <th>Texto</th>\n",
       "      <th>ds03</th>\n",
       "      <th>ds45</th>\n",
       "      <th>dp0</th>\n",
       "      <th>dp1</th>\n",
       "      <th>ds0</th>\n",
       "      <th>ds1</th>\n",
       "      <th>ds2</th>\n",
       "      <th>ds3</th>\n",
       "      <th>ds4</th>\n",
       "      <th>ds5</th>\n",
       "      <th>ds</th>\n",
       "      <th>dp</th>\n",
       "    </tr>\n",
       "  </thead>\n",
       "  <tbody>\n",
       "    <tr>\n",
       "      <th>3243</th>\n",
       "      <td>14740</td>\n",
       "      <td>6753</td>\n",
       "      <td>2</td>\n",
       "      <td>17.6</td>\n",
       "      <td>día reseñar</td>\n",
       "      <td>1</td>\n",
       "      <td>0</td>\n",
       "      <td>0</td>\n",
       "      <td>1.0</td>\n",
       "      <td>0</td>\n",
       "      <td>0</td>\n",
       "      <td>0</td>\n",
       "      <td>1</td>\n",
       "      <td>0</td>\n",
       "      <td>0</td>\n",
       "      <td>3</td>\n",
       "      <td>1.0</td>\n",
       "    </tr>\n",
       "    <tr>\n",
       "      <th>4422</th>\n",
       "      <td>17294</td>\n",
       "      <td>10148</td>\n",
       "      <td>2</td>\n",
       "      <td>0.0</td>\n",
       "      <td>ayer dando paseo diario pinares colindantes ca...</td>\n",
       "      <td>1</td>\n",
       "      <td>0</td>\n",
       "      <td>0</td>\n",
       "      <td>1.0</td>\n",
       "      <td>1</td>\n",
       "      <td>0</td>\n",
       "      <td>0</td>\n",
       "      <td>0</td>\n",
       "      <td>0</td>\n",
       "      <td>0</td>\n",
       "      <td>0</td>\n",
       "      <td>1.0</td>\n",
       "    </tr>\n",
       "    <tr>\n",
       "      <th>1510</th>\n",
       "      <td>9716</td>\n",
       "      <td>3205</td>\n",
       "      <td>2</td>\n",
       "      <td>68.0</td>\n",
       "      <td>cansancio derivado exceso ejercicio agujetas</td>\n",
       "      <td>0</td>\n",
       "      <td>1</td>\n",
       "      <td>1</td>\n",
       "      <td>0.0</td>\n",
       "      <td>0</td>\n",
       "      <td>0</td>\n",
       "      <td>0</td>\n",
       "      <td>0</td>\n",
       "      <td>0</td>\n",
       "      <td>1</td>\n",
       "      <td>5</td>\n",
       "      <td>0.0</td>\n",
       "    </tr>\n",
       "  </tbody>\n",
       "</table>\n",
       "</div>"
      ],
      "text/plain": [
       "      Llave  Paciente  Sexo  cal_vida  \\\n",
       "3243  14740      6753     2      17.6   \n",
       "4422  17294     10148     2       0.0   \n",
       "1510   9716      3205     2      68.0   \n",
       "\n",
       "                                                  Texto  ds03  ds45  dp0  dp1  \\\n",
       "3243                                        día reseñar     1     0    0  1.0   \n",
       "4422  ayer dando paseo diario pinares colindantes ca...     1     0    0  1.0   \n",
       "1510       cansancio derivado exceso ejercicio agujetas     0     1    1  0.0   \n",
       "\n",
       "      ds0  ds1  ds2  ds3  ds4  ds5  ds   dp  \n",
       "3243    0    0    0    1    0    0   3  1.0  \n",
       "4422    1    0    0    0    0    0   0  1.0  \n",
       "1510    0    0    0    0    0    1   5  0.0  "
      ]
     },
     "execution_count": 1,
     "metadata": {},
     "output_type": "execute_result"
    }
   ],
   "source": [
    "import pandas as pd\n",
    "from gensim.models import Word2Vec\n",
    "\n",
    "w2v_model = Word2Vec.load(\"data/word2vec.model\")\n",
    "\n",
    "# ---- Leemos los mensajes ----\n",
    "msjs_df = pd.read_csv(\"data/sms_full_dataframe.csv\",index_col=0)\n",
    "# msjs_df['Normalized Label'] = (2/5)*msjs_df['ds'].values-1\n",
    "# y = msjs_df['ds'].values\n",
    "\n",
    "msjs_df.sample(3)"
   ]
  },
  {
   "cell_type": "code",
   "execution_count": 2,
   "metadata": {},
   "outputs": [
    {
     "name": "stdout",
     "output_type": "stream",
     "text": [
      "Dataframe contains entries with 6 labels:\n",
      "[0 1 2 3 4 5]\n"
     ]
    }
   ],
   "source": [
    "from experiment_tools_SA import SentimentAnalysis\n",
    "\n",
    "\n",
    "# betas1 = [0.5,1,2]#np.linspace(0.1,2,5)\n",
    "# betas2 = [0.5,1,2]#np.linspace(0.5,5,5)\n",
    "# nums_cols = [3,5,7]\n",
    "# alphas = [0.5,0.75,0.9]#np.linspace(0.25,0.98,5)\n",
    "\n",
    "# params_dict = {\n",
    "#                 # 'beta1':betas1,\n",
    "#                 # 'beta2':betas2,\n",
    "#                 'n_cols':nums_cols\n",
    "#                 # 'alpha':alphas\n",
    "#                 }\n",
    "\n",
    "\n",
    "\n",
    "hpd = {'emb_model': w2v_model}\n",
    "\n",
    "sa = SentimentAnalysis(hyper_params_dict=hpd,\n",
    "                        df=msjs_df,\n",
    "                        text_col_name='Texto',\n",
    "                        label_col_name='ds',\n",
    "                        )"
   ]
  },
  {
   "cell_type": "code",
   "execution_count": 3,
   "metadata": {},
   "outputs": [
    {
     "name": "stdout",
     "output_type": "stream",
     "text": [
      "Calculando palabras prototípicas... "
     ]
    },
    {
     "name": "stderr",
     "output_type": "stream",
     "text": [
      "/home/wini/Repositorios/SA-paper/SentimentKW.py:63: FutureWarning: The frame.append method is deprecated and will be removed from pandas in a future version. Use pandas.concat instead.\n",
      "  labels_tr_df = labels_tr_df.append(temp_tr_df,ignore_index=True)\n",
      "/home/wini/Repositorios/SA-paper/SentimentKW.py:63: FutureWarning: The frame.append method is deprecated and will be removed from pandas in a future version. Use pandas.concat instead.\n",
      "  labels_tr_df = labels_tr_df.append(temp_tr_df,ignore_index=True)\n",
      "/home/wini/Repositorios/SA-paper/SentimentKW.py:63: FutureWarning: The frame.append method is deprecated and will be removed from pandas in a future version. Use pandas.concat instead.\n",
      "  labels_tr_df = labels_tr_df.append(temp_tr_df,ignore_index=True)\n",
      "/home/wini/Repositorios/SA-paper/SentimentKW.py:63: FutureWarning: The frame.append method is deprecated and will be removed from pandas in a future version. Use pandas.concat instead.\n",
      "  labels_tr_df = labels_tr_df.append(temp_tr_df,ignore_index=True)\n",
      "/home/wini/Repositorios/SA-paper/SentimentKW.py:63: FutureWarning: The frame.append method is deprecated and will be removed from pandas in a future version. Use pandas.concat instead.\n",
      "  labels_tr_df = labels_tr_df.append(temp_tr_df,ignore_index=True)\n",
      "/home/wini/Repositorios/SA-paper/SentimentKW.py:63: FutureWarning: The frame.append method is deprecated and will be removed from pandas in a future version. Use pandas.concat instead.\n",
      "  labels_tr_df = labels_tr_df.append(temp_tr_df,ignore_index=True)\n"
     ]
    },
    {
     "name": "stdout",
     "output_type": "stream",
     "text": [
      "done in 345.43282\n",
      "Construyendo vecinos... done in 444.97962\n",
      "Calculando puntajes... done in 6.94717\n",
      "Calculando representaciones... done in 4.28128\n",
      "43/43 [==============================] - 0s 4ms/step - loss: 1.3470 - accuracy: 0.5237\n",
      "done in 11.47281\n",
      "Construyendo vecinos... "
     ]
    }
   ],
   "source": [
    "comb_dict = {\n",
    "            'beta1': 0.5,\n",
    "            'beta2': 2,\n",
    "            'n_cols': 7,\n",
    "            'alpha': 0.9,\n",
    "            'top_n': 50,\n",
    "            'n_iter':3\n",
    "            }\n",
    "\n",
    "results = sa.run(combination_dict=comb_dict)"
   ]
  },
  {
   "cell_type": "code",
   "execution_count": null,
   "metadata": {},
   "outputs": [],
   "source": [
    "print(results)"
   ]
  },
  {
   "cell_type": "code",
   "execution_count": null,
   "metadata": {},
   "outputs": [],
   "source": []
  }
 ],
 "metadata": {
  "kernelspec": {
   "display_name": "Python 3.8.10 64-bit",
   "language": "python",
   "name": "python3"
  },
  "language_info": {
   "codemirror_mode": {
    "name": "ipython",
    "version": 3
   },
   "file_extension": ".py",
   "mimetype": "text/x-python",
   "name": "python",
   "nbconvert_exporter": "python",
   "pygments_lexer": "ipython3",
   "version": "3.8.10"
  },
  "orig_nbformat": 4,
  "vscode": {
   "interpreter": {
    "hash": "31f2aee4e71d21fbe5cf8b01ff0e069b9275f58929596ceb00d14d90e3e16cd6"
   }
  }
 },
 "nbformat": 4,
 "nbformat_minor": 2
}
