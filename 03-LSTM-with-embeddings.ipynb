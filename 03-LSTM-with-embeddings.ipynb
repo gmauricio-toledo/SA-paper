{
  "cells": [
    {
      "cell_type": "markdown",
      "metadata": {
        "id": "A28P3OxuKsYw"
      },
      "source": [
        "<a href=\"https://colab.research.google.com/github/DCDPUAEM/DCDP_2022/blob/main/05%20Deep%20Learning/notebooks/9-Embeddings-NLP.ipynb\" target=\"_parent\"><img src=\"https://colab.research.google.com/assets/colab-badge.svg\" alt=\"Open In Colab\"/></a>"
      ]
    },
    {
      "cell_type": "code",
      "execution_count": 7,
      "metadata": {
        "id": "bkhqsopxJ-8t"
      },
      "outputs": [],
      "source": [
        "import gensim.downloader"
      ]
    },
    {
      "cell_type": "code",
      "execution_count": 8,
      "metadata": {
        "colab": {
          "base_uri": "https://localhost:8080/"
        },
        "id": "1OWE4WMFKB7r",
        "outputId": "35cfab61-5e90-471c-82a4-8fbff59a54ae"
      },
      "outputs": [
        {
          "name": "stdout",
          "output_type": "stream",
          "text": [
            "fasttext-wiki-news-subwords-300\n",
            "conceptnet-numberbatch-17-06-300\n",
            "word2vec-ruscorpora-300\n",
            "word2vec-google-news-300\n",
            "glove-wiki-gigaword-50\n",
            "glove-wiki-gigaword-100\n",
            "glove-wiki-gigaword-200\n",
            "glove-wiki-gigaword-300\n",
            "glove-twitter-25\n",
            "glove-twitter-50\n",
            "glove-twitter-100\n",
            "glove-twitter-200\n",
            "__testing_word2vec-matrix-synopsis\n"
          ]
        }
      ],
      "source": [
        "for x in gensim.downloader.info()['models'].keys():\n",
        "    print(x)"
      ]
    },
    {
      "cell_type": "code",
      "execution_count": 9,
      "metadata": {
        "colab": {
          "base_uri": "https://localhost:8080/"
        },
        "id": "E2iK6AyJKTrh",
        "outputId": "7f381cf5-ff42-4a72-ca73-e48654e35ae2"
      },
      "outputs": [],
      "source": [
        "# w2v = gensim.downloader.load('word2vec-google-news-300')"
      ]
    },
    {
      "cell_type": "code",
      "execution_count": 10,
      "metadata": {
        "colab": {
          "base_uri": "https://localhost:8080/"
        },
        "id": "G-Ug-y7PWtzg",
        "outputId": "3d43bf9c-16ef-4ad4-a949-34fa1f971638"
      },
      "outputs": [
        {
          "name": "stderr",
          "output_type": "stream",
          "text": [
            "\n",
            "KeyboardInterrupt\n",
            "\n"
          ]
        }
      ],
      "source": [
        "kv = gensim.downloader.load('glove-twitter-100')"
      ]
    },
    {
      "cell_type": "markdown",
      "metadata": {
        "id": "FQbh9C8VIiwC"
      },
      "source": [
        "También podemos buscar estos modelos en diversos sitios, por ejemplo: \n",
        "\n",
        "* https://github.com/RaRe-Technologies/gensim-data"
      ]
    },
    {
      "cell_type": "markdown",
      "metadata": {
        "id": "8PM2JsxB4WaQ"
      },
      "source": [
        "Cada review se considera un documento. El corpus consiste de 50,000 docuemtnos.  Necesitamos limpiar los documentos quitando stopwords, símbolos, etc."
      ]
    },
    {
      "cell_type": "code",
      "execution_count": 1,
      "metadata": {
        "cellView": "form",
        "colab": {
          "base_uri": "https://localhost:8080/"
        },
        "id": "3r8JMlZycMau",
        "outputId": "47427d2b-b518-4a05-d204-d3fa4f15c342"
      },
      "outputs": [
        {
          "name": "stderr",
          "output_type": "stream",
          "text": [
            "[nltk_data] Downloading package stopwords to /home/wini/nltk_data...\n",
            "[nltk_data]   Unzipping corpora/stopwords.zip.\n",
            "[nltk_data] Downloading package punkt to /home/wini/nltk_data...\n",
            "[nltk_data]   Unzipping tokenizers/punkt.zip.\n",
            "[nltk_data] Downloading package wordnet to /home/wini/nltk_data...\n",
            "[nltk_data] Downloading package omw-1.4 to /home/wini/nltk_data...\n"
          ]
        },
        {
          "data": {
            "text/plain": [
              "True"
            ]
          },
          "execution_count": 1,
          "metadata": {},
          "output_type": "execute_result"
        }
      ],
      "source": [
        "#@title Bajamos los datos de nltk \n",
        "import nltk\n",
        "\n",
        "nltk.download('stopwords')\n",
        "nltk.download('punkt')\n",
        "nltk.download('wordnet')\n",
        "nltk.download('omw-1.4')"
      ]
    },
    {
      "cell_type": "code",
      "execution_count": null,
      "metadata": {
        "cellView": "form",
        "id": "3HwbM-RDcRSJ"
      },
      "outputs": [],
      "source": [
        "#@title Función para limpiar el texto\n",
        "import nltk\n",
        "from nltk.corpus import stopwords\n",
        "from nltk.tokenize import word_tokenize\n",
        "import re\n",
        "\n",
        "CLEANR = re.compile('<.*?>|&([a-z0-9]+|#[0-9]{1,6}|#x[0-9a-f]{1,6});')\n",
        "\n",
        "w_tokenizer = nltk.tokenize.WhitespaceTokenizer()\n",
        "lemmatizer = nltk.stem.WordNetLemmatizer()\n",
        "\n",
        "def clean(text):\n",
        "    clean_text = re.sub(CLEANR, '', text.lower()) # Quitamos etiquetas HTML\n",
        "    clean_text = re.sub(r'[^\\w\\s]', '', clean_text.lower()) # Quitamos signos de puntuación y símbolos\n",
        "    clean_text = re.sub('[0-9]', '', clean_text.lower())  # Quitamos números\n",
        "    SW = stopwords.words('english') # Leemos la lista de stopwords del inglés\n",
        "    tokens_no_sw = [word for word in word_tokenize(clean_text) if not word in SW] # Quitamos stopwords\n",
        "    stems = []\n",
        "    for w in tokens_no_sw:\n",
        "        stems.append(lemmatizer.lemmatize(w))\n",
        "    return stems"
      ]
    },
    {
      "cell_type": "code",
      "execution_count": null,
      "metadata": {
        "colab": {
          "base_uri": "https://localhost:8080/",
          "height": 206
        },
        "id": "r57eNbtfcIY-",
        "outputId": "6c8d2fc3-855c-4b7a-85fa-942e76d6c21f"
      },
      "outputs": [
        {
          "data": {
            "text/html": [
              "\n",
              "  <div id=\"df-63c3e4a5-e2ce-4d23-a5c5-03cbdded5988\">\n",
              "    <div class=\"colab-df-container\">\n",
              "      <div>\n",
              "<style scoped>\n",
              "    .dataframe tbody tr th:only-of-type {\n",
              "        vertical-align: middle;\n",
              "    }\n",
              "\n",
              "    .dataframe tbody tr th {\n",
              "        vertical-align: top;\n",
              "    }\n",
              "\n",
              "    .dataframe thead th {\n",
              "        text-align: right;\n",
              "    }\n",
              "</style>\n",
              "<table border=\"1\" class=\"dataframe\">\n",
              "  <thead>\n",
              "    <tr style=\"text-align: right;\">\n",
              "      <th></th>\n",
              "      <th>review</th>\n",
              "      <th>sentiment</th>\n",
              "    </tr>\n",
              "  </thead>\n",
              "  <tbody>\n",
              "    <tr>\n",
              "      <th>47521</th>\n",
              "      <td>There has never been anything like it, that's ...</td>\n",
              "      <td>positive</td>\n",
              "    </tr>\n",
              "    <tr>\n",
              "      <th>10512</th>\n",
              "      <td>I was very concerned about this film, it was s...</td>\n",
              "      <td>negative</td>\n",
              "    </tr>\n",
              "    <tr>\n",
              "      <th>8918</th>\n",
              "      <td>Christian Duguay directed this tidy little esp...</td>\n",
              "      <td>positive</td>\n",
              "    </tr>\n",
              "    <tr>\n",
              "      <th>42036</th>\n",
              "      <td>I've known about Bettie Page for many a year n...</td>\n",
              "      <td>positive</td>\n",
              "    </tr>\n",
              "    <tr>\n",
              "      <th>49460</th>\n",
              "      <td>I would like to comment on the movie April Lov...</td>\n",
              "      <td>positive</td>\n",
              "    </tr>\n",
              "  </tbody>\n",
              "</table>\n",
              "</div>\n",
              "      <button class=\"colab-df-convert\" onclick=\"convertToInteractive('df-63c3e4a5-e2ce-4d23-a5c5-03cbdded5988')\"\n",
              "              title=\"Convert this dataframe to an interactive table.\"\n",
              "              style=\"display:none;\">\n",
              "        \n",
              "  <svg xmlns=\"http://www.w3.org/2000/svg\" height=\"24px\"viewBox=\"0 0 24 24\"\n",
              "       width=\"24px\">\n",
              "    <path d=\"M0 0h24v24H0V0z\" fill=\"none\"/>\n",
              "    <path d=\"M18.56 5.44l.94 2.06.94-2.06 2.06-.94-2.06-.94-.94-2.06-.94 2.06-2.06.94zm-11 1L8.5 8.5l.94-2.06 2.06-.94-2.06-.94L8.5 2.5l-.94 2.06-2.06.94zm10 10l.94 2.06.94-2.06 2.06-.94-2.06-.94-.94-2.06-.94 2.06-2.06.94z\"/><path d=\"M17.41 7.96l-1.37-1.37c-.4-.4-.92-.59-1.43-.59-.52 0-1.04.2-1.43.59L10.3 9.45l-7.72 7.72c-.78.78-.78 2.05 0 2.83L4 21.41c.39.39.9.59 1.41.59.51 0 1.02-.2 1.41-.59l7.78-7.78 2.81-2.81c.8-.78.8-2.07 0-2.86zM5.41 20L4 18.59l7.72-7.72 1.47 1.35L5.41 20z\"/>\n",
              "  </svg>\n",
              "      </button>\n",
              "      \n",
              "  <style>\n",
              "    .colab-df-container {\n",
              "      display:flex;\n",
              "      flex-wrap:wrap;\n",
              "      gap: 12px;\n",
              "    }\n",
              "\n",
              "    .colab-df-convert {\n",
              "      background-color: #E8F0FE;\n",
              "      border: none;\n",
              "      border-radius: 50%;\n",
              "      cursor: pointer;\n",
              "      display: none;\n",
              "      fill: #1967D2;\n",
              "      height: 32px;\n",
              "      padding: 0 0 0 0;\n",
              "      width: 32px;\n",
              "    }\n",
              "\n",
              "    .colab-df-convert:hover {\n",
              "      background-color: #E2EBFA;\n",
              "      box-shadow: 0px 1px 2px rgba(60, 64, 67, 0.3), 0px 1px 3px 1px rgba(60, 64, 67, 0.15);\n",
              "      fill: #174EA6;\n",
              "    }\n",
              "\n",
              "    [theme=dark] .colab-df-convert {\n",
              "      background-color: #3B4455;\n",
              "      fill: #D2E3FC;\n",
              "    }\n",
              "\n",
              "    [theme=dark] .colab-df-convert:hover {\n",
              "      background-color: #434B5C;\n",
              "      box-shadow: 0px 1px 3px 1px rgba(0, 0, 0, 0.15);\n",
              "      filter: drop-shadow(0px 1px 2px rgba(0, 0, 0, 0.3));\n",
              "      fill: #FFFFFF;\n",
              "    }\n",
              "  </style>\n",
              "\n",
              "      <script>\n",
              "        const buttonEl =\n",
              "          document.querySelector('#df-63c3e4a5-e2ce-4d23-a5c5-03cbdded5988 button.colab-df-convert');\n",
              "        buttonEl.style.display =\n",
              "          google.colab.kernel.accessAllowed ? 'block' : 'none';\n",
              "\n",
              "        async function convertToInteractive(key) {\n",
              "          const element = document.querySelector('#df-63c3e4a5-e2ce-4d23-a5c5-03cbdded5988');\n",
              "          const dataTable =\n",
              "            await google.colab.kernel.invokeFunction('convertToInteractive',\n",
              "                                                     [key], {});\n",
              "          if (!dataTable) return;\n",
              "\n",
              "          const docLinkHtml = 'Like what you see? Visit the ' +\n",
              "            '<a target=\"_blank\" href=https://colab.research.google.com/notebooks/data_table.ipynb>data table notebook</a>'\n",
              "            + ' to learn more about interactive tables.';\n",
              "          element.innerHTML = '';\n",
              "          dataTable['output_type'] = 'display_data';\n",
              "          await google.colab.output.renderOutput(dataTable, element);\n",
              "          const docLink = document.createElement('div');\n",
              "          docLink.innerHTML = docLinkHtml;\n",
              "          element.appendChild(docLink);\n",
              "        }\n",
              "      </script>\n",
              "    </div>\n",
              "  </div>\n",
              "  "
            ],
            "text/plain": [
              "                                                  review sentiment\n",
              "47521  There has never been anything like it, that's ...  positive\n",
              "10512  I was very concerned about this film, it was s...  negative\n",
              "8918   Christian Duguay directed this tidy little esp...  positive\n",
              "42036  I've known about Bettie Page for many a year n...  positive\n",
              "49460  I would like to comment on the movie April Lov...  positive"
            ]
          },
          "metadata": {},
          "output_type": "display_data"
        }
      ],
      "source": [
        "import pandas as pd\n",
        "\n",
        "df = pd.read_csv('/content/IMDB Dataset.csv')\n",
        "display(df.sample(5))"
      ]
    },
    {
      "cell_type": "code",
      "execution_count": null,
      "metadata": {
        "colab": {
          "base_uri": "https://localhost:8080/",
          "height": 206
        },
        "id": "pK9O6Yv40uIE",
        "outputId": "d7b3ea97-0b67-4095-9bdd-4a4c8e69667a"
      },
      "outputs": [
        {
          "data": {
            "text/html": [
              "\n",
              "  <div id=\"df-b6030e78-b329-4c13-8d86-1cdb862fca93\">\n",
              "    <div class=\"colab-df-container\">\n",
              "      <div>\n",
              "<style scoped>\n",
              "    .dataframe tbody tr th:only-of-type {\n",
              "        vertical-align: middle;\n",
              "    }\n",
              "\n",
              "    .dataframe tbody tr th {\n",
              "        vertical-align: top;\n",
              "    }\n",
              "\n",
              "    .dataframe thead th {\n",
              "        text-align: right;\n",
              "    }\n",
              "</style>\n",
              "<table border=\"1\" class=\"dataframe\">\n",
              "  <thead>\n",
              "    <tr style=\"text-align: right;\">\n",
              "      <th></th>\n",
              "      <th>review</th>\n",
              "      <th>sentiment</th>\n",
              "      <th>clean</th>\n",
              "    </tr>\n",
              "  </thead>\n",
              "  <tbody>\n",
              "    <tr>\n",
              "      <th>4608</th>\n",
              "      <td>I have seen this movie and in all honestly was...</td>\n",
              "      <td>negative</td>\n",
              "      <td>[seen, movie, honestly, quite, disappointed, o...</td>\n",
              "    </tr>\n",
              "    <tr>\n",
              "      <th>46000</th>\n",
              "      <td>Surviving Christmas is a surprisingly funny mo...</td>\n",
              "      <td>positive</td>\n",
              "      <td>[surviving, christmas, surprisingly, funny, mo...</td>\n",
              "    </tr>\n",
              "    <tr>\n",
              "      <th>42679</th>\n",
              "      <td>Narratives  whether written, visual or poetic...</td>\n",
              "      <td>positive</td>\n",
              "      <td>[narrative, whether, written, visual, poetic, ...</td>\n",
              "    </tr>\n",
              "    <tr>\n",
              "      <th>48021</th>\n",
              "      <td>I really don't know much about the Marquis de ...</td>\n",
              "      <td>negative</td>\n",
              "      <td>[really, dont, know, much, marquis, de, sade, ...</td>\n",
              "    </tr>\n",
              "    <tr>\n",
              "      <th>44095</th>\n",
              "      <td>In 1914, Charlie Chaplin began making pictures...</td>\n",
              "      <td>negative</td>\n",
              "      <td>[charlie, chaplin, began, making, picture, mad...</td>\n",
              "    </tr>\n",
              "  </tbody>\n",
              "</table>\n",
              "</div>\n",
              "      <button class=\"colab-df-convert\" onclick=\"convertToInteractive('df-b6030e78-b329-4c13-8d86-1cdb862fca93')\"\n",
              "              title=\"Convert this dataframe to an interactive table.\"\n",
              "              style=\"display:none;\">\n",
              "        \n",
              "  <svg xmlns=\"http://www.w3.org/2000/svg\" height=\"24px\"viewBox=\"0 0 24 24\"\n",
              "       width=\"24px\">\n",
              "    <path d=\"M0 0h24v24H0V0z\" fill=\"none\"/>\n",
              "    <path d=\"M18.56 5.44l.94 2.06.94-2.06 2.06-.94-2.06-.94-.94-2.06-.94 2.06-2.06.94zm-11 1L8.5 8.5l.94-2.06 2.06-.94-2.06-.94L8.5 2.5l-.94 2.06-2.06.94zm10 10l.94 2.06.94-2.06 2.06-.94-2.06-.94-.94-2.06-.94 2.06-2.06.94z\"/><path d=\"M17.41 7.96l-1.37-1.37c-.4-.4-.92-.59-1.43-.59-.52 0-1.04.2-1.43.59L10.3 9.45l-7.72 7.72c-.78.78-.78 2.05 0 2.83L4 21.41c.39.39.9.59 1.41.59.51 0 1.02-.2 1.41-.59l7.78-7.78 2.81-2.81c.8-.78.8-2.07 0-2.86zM5.41 20L4 18.59l7.72-7.72 1.47 1.35L5.41 20z\"/>\n",
              "  </svg>\n",
              "      </button>\n",
              "      \n",
              "  <style>\n",
              "    .colab-df-container {\n",
              "      display:flex;\n",
              "      flex-wrap:wrap;\n",
              "      gap: 12px;\n",
              "    }\n",
              "\n",
              "    .colab-df-convert {\n",
              "      background-color: #E8F0FE;\n",
              "      border: none;\n",
              "      border-radius: 50%;\n",
              "      cursor: pointer;\n",
              "      display: none;\n",
              "      fill: #1967D2;\n",
              "      height: 32px;\n",
              "      padding: 0 0 0 0;\n",
              "      width: 32px;\n",
              "    }\n",
              "\n",
              "    .colab-df-convert:hover {\n",
              "      background-color: #E2EBFA;\n",
              "      box-shadow: 0px 1px 2px rgba(60, 64, 67, 0.3), 0px 1px 3px 1px rgba(60, 64, 67, 0.15);\n",
              "      fill: #174EA6;\n",
              "    }\n",
              "\n",
              "    [theme=dark] .colab-df-convert {\n",
              "      background-color: #3B4455;\n",
              "      fill: #D2E3FC;\n",
              "    }\n",
              "\n",
              "    [theme=dark] .colab-df-convert:hover {\n",
              "      background-color: #434B5C;\n",
              "      box-shadow: 0px 1px 3px 1px rgba(0, 0, 0, 0.15);\n",
              "      filter: drop-shadow(0px 1px 2px rgba(0, 0, 0, 0.3));\n",
              "      fill: #FFFFFF;\n",
              "    }\n",
              "  </style>\n",
              "\n",
              "      <script>\n",
              "        const buttonEl =\n",
              "          document.querySelector('#df-b6030e78-b329-4c13-8d86-1cdb862fca93 button.colab-df-convert');\n",
              "        buttonEl.style.display =\n",
              "          google.colab.kernel.accessAllowed ? 'block' : 'none';\n",
              "\n",
              "        async function convertToInteractive(key) {\n",
              "          const element = document.querySelector('#df-b6030e78-b329-4c13-8d86-1cdb862fca93');\n",
              "          const dataTable =\n",
              "            await google.colab.kernel.invokeFunction('convertToInteractive',\n",
              "                                                     [key], {});\n",
              "          if (!dataTable) return;\n",
              "\n",
              "          const docLinkHtml = 'Like what you see? Visit the ' +\n",
              "            '<a target=\"_blank\" href=https://colab.research.google.com/notebooks/data_table.ipynb>data table notebook</a>'\n",
              "            + ' to learn more about interactive tables.';\n",
              "          element.innerHTML = '';\n",
              "          dataTable['output_type'] = 'display_data';\n",
              "          await google.colab.output.renderOutput(dataTable, element);\n",
              "          const docLink = document.createElement('div');\n",
              "          docLink.innerHTML = docLinkHtml;\n",
              "          element.appendChild(docLink);\n",
              "        }\n",
              "      </script>\n",
              "    </div>\n",
              "  </div>\n",
              "  "
            ],
            "text/plain": [
              "                                                  review sentiment  \\\n",
              "4608   I have seen this movie and in all honestly was...  negative   \n",
              "46000  Surviving Christmas is a surprisingly funny mo...  positive   \n",
              "42679  Narratives  whether written, visual or poetic...  positive   \n",
              "48021  I really don't know much about the Marquis de ...  negative   \n",
              "44095  In 1914, Charlie Chaplin began making pictures...  negative   \n",
              "\n",
              "                                                   clean  \n",
              "4608   [seen, movie, honestly, quite, disappointed, o...  \n",
              "46000  [surviving, christmas, surprisingly, funny, mo...  \n",
              "42679  [narrative, whether, written, visual, poetic, ...  \n",
              "48021  [really, dont, know, much, marquis, de, sade, ...  \n",
              "44095  [charlie, chaplin, began, making, picture, mad...  "
            ]
          },
          "execution_count": 5,
          "metadata": {},
          "output_type": "execute_result"
        }
      ],
      "source": [
        "df['clean'] = df['review'].apply(clean)\n",
        "df.sample(5)"
      ]
    },
    {
      "cell_type": "code",
      "execution_count": 2,
      "metadata": {
        "id": "ZQld5HBT3Ikm"
      },
      "outputs": [
        {
          "name": "stdout",
          "output_type": "stream",
          "text": [
            "100\n"
          ]
        }
      ],
      "source": [
        "from gensim.models import Word2Vec\n",
        "\n",
        "w2v_model = Word2Vec.load(\"data/word2vec.model\")\n",
        "keyed_vectors = w2v_model.wv\n",
        "\n",
        "embedding_dim = keyed_vectors.vector_size\n",
        "\n",
        "print(embedding_dim)"
      ]
    },
    {
      "cell_type": "markdown",
      "metadata": {
        "id": "ou1i6rBUhIZK"
      },
      "source": [
        "Obtengamos el vocabulario"
      ]
    },
    {
      "cell_type": "code",
      "execution_count": 3,
      "metadata": {
        "colab": {
          "base_uri": "https://localhost:8080/"
        },
        "id": "CAeUfp-7hHqC",
        "outputId": "0c72bee2-ddf3-4d4b-d6e5-ddfc30df81f3"
      },
      "outputs": [
        {
          "name": "stdout",
          "output_type": "stream",
          "text": [
            "Longitud del vocabulario: 12256\n"
          ]
        }
      ],
      "source": [
        "import numpy as np\n",
        "\n",
        "vocab = list(keyed_vectors.key_to_index)\n",
        "n_words = len(vocab)\n",
        "\n",
        "print(f\"Longitud del vocabulario: {n_words}\")"
      ]
    },
    {
      "cell_type": "code",
      "execution_count": 4,
      "metadata": {},
      "outputs": [
        {
          "name": "stdout",
          "output_type": "stream",
          "text": [
            "[[1. 0. 0. 0. 0. 0.]\n",
            " [0. 1. 0. 0. 0. 0.]\n",
            " [0. 0. 0. 1. 0. 0.]\n",
            " [0. 0. 0. 1. 0. 0.]\n",
            " [0. 0. 0. 1. 0. 0.]\n",
            " [0. 0. 1. 0. 0. 0.]]\n"
          ]
        }
      ],
      "source": [
        "import pandas as pd\n",
        "from tensorflow.keras.utils import to_categorical\n",
        "\n",
        "msjs_df = pd.read_csv(\"data/sms_full_dataframe.csv\",index_col=0)\n",
        "msjs_df['Normalized Label'] = (2/5)*msjs_df['ds'].values-1\n",
        "y = msjs_df['ds'].values\n",
        "\n",
        "y = to_categorical(y, num_classes=6)\n",
        "\n",
        "print(y[:6])"
      ]
    },
    {
      "cell_type": "markdown",
      "metadata": {
        "id": "0Am6F4SZhcK0"
      },
      "source": [
        "### LSTM\n",
        "\n",
        "Ahora, realizaremos la clasificación usando una red con una capa LSTM. Repetiremos la estrategia de la sesión pasada, pero ahora incorporaremos los embeddings que acabamos de calcular"
      ]
    },
    {
      "cell_type": "code",
      "execution_count": 5,
      "metadata": {
        "colab": {
          "base_uri": "https://localhost:8080/"
        },
        "id": "1UqSiVVg3mIS",
        "outputId": "7b6a3e41-3d53-4159-c739-4ac3cf107392"
      },
      "outputs": [
        {
          "name": "stdout",
          "output_type": "stream",
          "text": [
            "Shape of X_train: (4665,)\n",
            "Shape of X_test: (824,)\n"
          ]
        }
      ],
      "source": [
        "from sklearn.model_selection import train_test_split\n",
        "\n",
        "reviews = msjs_df['Texto'].values\n",
        "\n",
        "train_reviews, test_reviews, y_train, y_test = train_test_split(reviews, y, train_size=0.85, random_state=74)\n",
        "\n",
        "print(f\"Shape of X_train: {train_reviews.shape}\")\n",
        "print(f\"Shape of X_test: {test_reviews.shape}\")"
      ]
    },
    {
      "cell_type": "markdown",
      "metadata": {
        "id": "4-eKQYFNKKrK"
      },
      "source": [
        "Tokenizamos los documentos para obtener las secuencias de índices"
      ]
    },
    {
      "cell_type": "code",
      "execution_count": 6,
      "metadata": {
        "id": "N0X04xeL5XQK"
      },
      "outputs": [],
      "source": [
        "from tensorflow.keras.preprocessing.text import Tokenizer\n",
        "from tensorflow.keras.preprocessing.sequence import pad_sequences\n",
        "\n",
        "# ----- Hiperparámetros para este preprocesamiento\n",
        "vocab_size = 10000   # Nos limitaremos a ese número de palabras del vocabulario\n",
        "oov_tok = ''        # Las palabras fuera del vocabulario se reemplazarán con este string\n",
        "max_length = 100    # La longitud común deseada para las secuencias al hacer el padding\n",
        "\n",
        "#  ----- Entrenamos el tokenizador \n",
        "tokenizer = Tokenizer(num_words = vocab_size, oov_token=oov_tok)\n",
        "tokenizer.fit_on_texts(train_reviews)\n",
        "\n",
        "#  ----- Creamos las secuencias de entrenamiento y hacemos el padding\n",
        "train_sequences = tokenizer.texts_to_sequences(train_reviews)\n",
        "train_padded = pad_sequences(train_sequences, padding='post', maxlen=max_length)\n",
        "\n",
        "#  ----- Creamos las secuencias de prueba y hacemos el padding\n",
        "test_sequences = tokenizer.texts_to_sequences(test_reviews)\n",
        "test_padded = pad_sequences(test_sequences, padding='post', maxlen=max_length)"
      ]
    },
    {
      "cell_type": "markdown",
      "metadata": {},
      "source": [
        "Usar nuestras representaciones en la capa de embeddings"
      ]
    },
    {
      "cell_type": "code",
      "execution_count": 13,
      "metadata": {},
      "outputs": [],
      "source": [
        "from scoring import Scoring\n",
        "from keras.layers import Embedding\n",
        "\n",
        "W0_dict = pd.read_pickle(\"data/palabras_auto.pickle\")\n",
        "\n",
        "msjs_df = pd.read_csv(\"data/sms_full_dataframe.csv\",index_col=0)\n",
        "msjs_df['Normalized Label'] = (2/5)*msjs_df['ds'].values-1\n",
        "puntaje = Scoring(w2vmodel=w2v_model,W0=W0_dict)\n",
        "puntaje.build_neighbors(alpha=0.65)\n",
        "scores_df = puntaje.transform(df=msjs_df,text_col=\"Texto\",label_col=\"Normalized Label\",beta1=0.5,beta2=5.5)\n",
        "W0_dict = dict(zip(scores_df['word'].values,scores_df['score'].values))\n",
        "word_representations = puntaje.get_words_representations(mode='mean')\n",
        "\n",
        "embedding_dim = keyed_vectors.vector_size\n",
        "vocab_len = len(vocab)\n",
        "embedding_matrix = np.zeros((vocab_len, embedding_dim))\n",
        "\n",
        "for word, index in tokenizer.word_index.items():\n",
        "    try:\n",
        "        if word in vocab:\n",
        "            idx = vocab.index(word)\n",
        "        embedding_matrix[index, :] = word_representations[idx,:]\n",
        "    except:\n",
        "        pass\n",
        "\n",
        "embedding_layer = Embedding(input_dim=vocab_len, output_dim=embedding_dim, input_length=max_length, \n",
        "                            weights = [embedding_matrix], trainable=False)"
      ]
    },
    {
      "cell_type": "markdown",
      "metadata": {
        "id": "MdBrCQWeKO_6"
      },
      "source": [
        "Preparamos la capa Embedding, ahora en lugar de generar embeddings, sólo los recuperará de nuestro embeddings entrenados"
      ]
    },
    {
      "cell_type": "code",
      "execution_count": 12,
      "metadata": {
        "id": "My7TseVl3FMs"
      },
      "outputs": [],
      "source": [
        "from keras.layers import Embedding\n",
        "\n",
        "vocab_len = len(vocab)\n",
        "\n",
        "embedding_matrix = np.zeros((vocab_len, embedding_dim))\n",
        "\n",
        "for word, index in tokenizer.word_index.items():\n",
        "    try:\n",
        "        embedding_vector = w2v_model.wv.get_vector(word)\n",
        "        if embedding_vector is not None:\n",
        "            embedding_matrix[index, :] = embedding_vector\n",
        "    except:\n",
        "        pass\n",
        "\n",
        "embedding_layer = Embedding(input_dim=vocab_len, output_dim=embedding_dim, input_length=max_length, \n",
        "                            weights = [embedding_matrix], trainable=True)"
      ]
    },
    {
      "cell_type": "markdown",
      "metadata": {
        "id": "_qtiXSd1KZlx"
      },
      "source": [
        "Esta capa de embeddings se incorpora a la arquitectura de la red"
      ]
    },
    {
      "cell_type": "code",
      "execution_count": 14,
      "metadata": {
        "colab": {
          "base_uri": "https://localhost:8080/"
        },
        "id": "YjxIp8RV6WwR",
        "outputId": "ad088aab-4654-40f8-fb88-77371011462b"
      },
      "outputs": [
        {
          "name": "stdout",
          "output_type": "stream",
          "text": [
            "Model: \"sequential_1\"\n",
            "_________________________________________________________________\n",
            " Layer (type)                Output Shape              Param #   \n",
            "=================================================================\n",
            " embedding_3 (Embedding)     (None, 100, 100)          1225600   \n",
            "                                                                 \n",
            " lstm_1 (LSTM)               (None, 64)                42240     \n",
            "                                                                 \n",
            " dense_3 (Dense)             (None, 32)                2080      \n",
            "                                                                 \n",
            " dense_4 (Dense)             (None, 16)                528       \n",
            "                                                                 \n",
            " dense_5 (Dense)             (None, 6)                 102       \n",
            "                                                                 \n",
            "=================================================================\n",
            "Total params: 1,270,550\n",
            "Trainable params: 44,950\n",
            "Non-trainable params: 1,225,600\n",
            "_________________________________________________________________\n"
          ]
        }
      ],
      "source": [
        "from keras.models import Sequential\n",
        "from keras.layers import Dense\n",
        "from keras.layers import LSTM\n",
        "\n",
        "# ----- model initialization\n",
        "model = Sequential([\n",
        "    embedding_layer,\n",
        "    LSTM(64, dropout=0.2),\n",
        "    Dense(32, activation='relu'),\n",
        "    Dense(16, activation='relu'),\n",
        "    Dense(6, activation='softmax')\n",
        "])\n",
        "\n",
        "# ----- compile model\n",
        "model.compile(loss='binary_crossentropy',\n",
        "              optimizer='adam',\n",
        "              metrics=['accuracy'])\n",
        "\n",
        "model.summary()"
      ]
    },
    {
      "cell_type": "code",
      "execution_count": 15,
      "metadata": {
        "colab": {
          "base_uri": "https://localhost:8080/"
        },
        "id": "sON6pTln13Cx",
        "outputId": "6603f1b7-1ebf-43f5-ee3b-d257b8b41658"
      },
      "outputs": [
        {
          "name": "stdout",
          "output_type": "stream",
          "text": [
            "Epoch 1/25\n",
            "132/132 [==============================] - 6s 36ms/step - loss: 0.4386 - accuracy: 0.3821 - val_loss: 0.3874 - val_accuracy: 0.4775\n",
            "Epoch 2/25\n",
            "132/132 [==============================] - 4s 33ms/step - loss: 0.3925 - accuracy: 0.4609 - val_loss: 0.3885 - val_accuracy: 0.4775\n",
            "Epoch 3/25\n",
            "132/132 [==============================] - 4s 33ms/step - loss: 0.3930 - accuracy: 0.4609 - val_loss: 0.3886 - val_accuracy: 0.4775\n",
            "Epoch 4/25\n",
            "132/132 [==============================] - 4s 34ms/step - loss: 0.3927 - accuracy: 0.4609 - val_loss: 0.3881 - val_accuracy: 0.4775\n",
            "Epoch 5/25\n",
            "132/132 [==============================] - 4s 33ms/step - loss: 0.3928 - accuracy: 0.4609 - val_loss: 0.3877 - val_accuracy: 0.4775\n",
            "Epoch 6/25\n",
            "132/132 [==============================] - 4s 33ms/step - loss: 0.3928 - accuracy: 0.4609 - val_loss: 0.3876 - val_accuracy: 0.4775\n",
            "Epoch 7/25\n",
            "132/132 [==============================] - 4s 33ms/step - loss: 0.3928 - accuracy: 0.4609 - val_loss: 0.3881 - val_accuracy: 0.4775\n",
            "Epoch 8/25\n",
            "132/132 [==============================] - 4s 34ms/step - loss: 0.3928 - accuracy: 0.4609 - val_loss: 0.3873 - val_accuracy: 0.4775\n",
            "Epoch 9/25\n",
            "132/132 [==============================] - 4s 33ms/step - loss: 0.3923 - accuracy: 0.4609 - val_loss: 0.3880 - val_accuracy: 0.4775\n",
            "Epoch 10/25\n",
            "132/132 [==============================] - 4s 34ms/step - loss: 0.3925 - accuracy: 0.4609 - val_loss: 0.3882 - val_accuracy: 0.4775\n",
            "Epoch 11/25\n",
            "132/132 [==============================] - 4s 33ms/step - loss: 0.3924 - accuracy: 0.4609 - val_loss: 0.3889 - val_accuracy: 0.4775\n",
            "Epoch 12/25\n",
            "132/132 [==============================] - 4s 33ms/step - loss: 0.3922 - accuracy: 0.4609 - val_loss: 0.3883 - val_accuracy: 0.4775\n",
            "Epoch 13/25\n",
            "132/132 [==============================] - 4s 33ms/step - loss: 0.3927 - accuracy: 0.4609 - val_loss: 0.3875 - val_accuracy: 0.4775\n",
            "Epoch 14/25\n",
            "132/132 [==============================] - 4s 33ms/step - loss: 0.3926 - accuracy: 0.4609 - val_loss: 0.3876 - val_accuracy: 0.4775\n",
            "Epoch 15/25\n",
            "132/132 [==============================] - 4s 33ms/step - loss: 0.3927 - accuracy: 0.4609 - val_loss: 0.3883 - val_accuracy: 0.4775\n",
            "Epoch 16/25\n",
            "132/132 [==============================] - 4s 33ms/step - loss: 0.3924 - accuracy: 0.4609 - val_loss: 0.3873 - val_accuracy: 0.4775\n",
            "Epoch 17/25\n",
            "132/132 [==============================] - 4s 33ms/step - loss: 0.3924 - accuracy: 0.4609 - val_loss: 0.3875 - val_accuracy: 0.4775\n",
            "Epoch 18/25\n",
            "132/132 [==============================] - 4s 33ms/step - loss: 0.3923 - accuracy: 0.4609 - val_loss: 0.3875 - val_accuracy: 0.4775\n",
            "Epoch 19/25\n",
            "132/132 [==============================] - 4s 34ms/step - loss: 0.3921 - accuracy: 0.4609 - val_loss: 0.3877 - val_accuracy: 0.4775\n",
            "Epoch 20/25\n",
            "132/132 [==============================] - 4s 34ms/step - loss: 0.3924 - accuracy: 0.4609 - val_loss: 0.3876 - val_accuracy: 0.4775\n",
            "Epoch 21/25\n",
            "132/132 [==============================] - 4s 33ms/step - loss: 0.3922 - accuracy: 0.4609 - val_loss: 0.3887 - val_accuracy: 0.4775\n",
            "Epoch 22/25\n",
            "132/132 [==============================] - 4s 33ms/step - loss: 0.3923 - accuracy: 0.4609 - val_loss: 0.3880 - val_accuracy: 0.4775\n",
            "Epoch 23/25\n",
            "132/132 [==============================] - 4s 33ms/step - loss: 0.3924 - accuracy: 0.4609 - val_loss: 0.3875 - val_accuracy: 0.4775\n",
            "Epoch 24/25\n",
            "132/132 [==============================] - 4s 33ms/step - loss: 0.3924 - accuracy: 0.4609 - val_loss: 0.3881 - val_accuracy: 0.4775\n",
            "Epoch 25/25\n",
            "132/132 [==============================] - 4s 33ms/step - loss: 0.3921 - accuracy: 0.4609 - val_loss: 0.3877 - val_accuracy: 0.4775\n"
          ]
        }
      ],
      "source": [
        "from tensorflow.keras.callbacks import EarlyStopping\n",
        "\n",
        "es = EarlyStopping(monitor='val_loss',patience=3)\n",
        "\n",
        "num_epochs = 25\n",
        "\n",
        "history = model.fit(train_padded, y_train, \n",
        "                    epochs=num_epochs, verbose=1, \n",
        "                    validation_split=0.1)#,\n",
        "                    # callbacks=[es])"
      ]
    },
    {
      "cell_type": "code",
      "execution_count": 16,
      "metadata": {
        "colab": {
          "base_uri": "https://localhost:8080/",
          "height": 422
        },
        "id": "VecnbrJ2172T",
        "outputId": "c57e25ba-5626-4d58-e588-3b90c2f9da00"
      },
      "outputs": [
        {
          "data": {
            "image/png": "[encoded data removed]",
            "text/plain": [
              "<Figure size 1200x400 with 2 Axes>"
            ]
          },
          "metadata": {
            "needs_background": "light"
          },
          "output_type": "display_data"
        }
      ],
      "source": [
        "import matplotlib.pyplot as plt\n",
        "\n",
        "plt.figure(figsize=(12, 4),dpi=100)\n",
        "plt.suptitle(\"Training Curves\",fontsize=16)\n",
        "plt.subplot(1, 2, 1)\n",
        "plt.suptitle(\"Validation and Training Loss\",fontsize=14)\n",
        "plt.plot(history.history['loss'], label='train')\n",
        "plt.plot(history.history['val_loss'], label='validation')\n",
        "plt.ylabel(\"Loss\")\n",
        "plt.xlabel(\"Epochs\")\n",
        "plt.legend()\n",
        "plt.subplot(1, 2, 2)\n",
        "plt.suptitle(\"Validation and Training Accuracy\",fontsize=14)\n",
        "plt.plot(history.history['accuracy'], label='train')\n",
        "plt.plot(history.history['val_accuracy'], label='validation')\n",
        "plt.legend()\n",
        "plt.xlabel(\"Epochs\")\n",
        "plt.ylabel(\"Accuracy\")\n",
        "plt.show()"
      ]
    },
    {
      "cell_type": "markdown",
      "metadata": {},
      "source": [
        "Recuperar nuevos embeddings"
      ]
    },
    {
      "cell_type": "code",
      "execution_count": null,
      "metadata": {},
      "outputs": [],
      "source": []
    },
    {
      "cell_type": "code",
      "execution_count": 11,
      "metadata": {
        "colab": {
          "base_uri": "https://localhost:8080/"
        },
        "id": "HVT1hV4X7lwK",
        "outputId": "b0dd024c-66f8-4599-84f7-8dc1bade30a9"
      },
      "outputs": [
        {
          "name": "stdout",
          "output_type": "stream",
          "text": [
            "26/26 [==============================] - 1s 12ms/step\n"
          ]
        },
        {
          "ename": "ValueError",
          "evalue": "The truth value of an array with more than one element is ambiguous. Use a.any() or a.all()",
          "output_type": "error",
          "traceback": [
            "\u001b[0;31m---------------------------------------------------------------------------\u001b[0m",
            "\u001b[0;31mValueError\u001b[0m                                Traceback (most recent call last)",
            "\u001b[1;32m/home/wini/Repositorios/SMS-experimentos-PostCue/03-LSTM-with-embeddings.ipynb Cell 28\u001b[0m in \u001b[0;36m<cell line: 7>\u001b[0;34m()\u001b[0m\n\u001b[1;32m      <a href='vscode-notebook-cell:/home/wini/Repositorios/SMS-experimentos-PostCue/03-LSTM-with-embeddings.ipynb#X36sZmlsZQ%3D%3D?line=4'>5</a>\u001b[0m pred_labels \u001b[39m=\u001b[39m []\n\u001b[1;32m      <a href='vscode-notebook-cell:/home/wini/Repositorios/SMS-experimentos-PostCue/03-LSTM-with-embeddings.ipynb#X36sZmlsZQ%3D%3D?line=6'>7</a>\u001b[0m \u001b[39mfor\u001b[39;00m x \u001b[39min\u001b[39;00m predictions:\n\u001b[0;32m----> <a href='vscode-notebook-cell:/home/wini/Repositorios/SMS-experimentos-PostCue/03-LSTM-with-embeddings.ipynb#X36sZmlsZQ%3D%3D?line=7'>8</a>\u001b[0m     \u001b[39mif\u001b[39;00m x \u001b[39m>\u001b[39m\u001b[39m=\u001b[39m \u001b[39m0.5\u001b[39m:\n\u001b[1;32m      <a href='vscode-notebook-cell:/home/wini/Repositorios/SMS-experimentos-PostCue/03-LSTM-with-embeddings.ipynb#X36sZmlsZQ%3D%3D?line=8'>9</a>\u001b[0m         pred_labels\u001b[39m.\u001b[39mappend(\u001b[39m1\u001b[39m)\n\u001b[1;32m     <a href='vscode-notebook-cell:/home/wini/Repositorios/SMS-experimentos-PostCue/03-LSTM-with-embeddings.ipynb#X36sZmlsZQ%3D%3D?line=9'>10</a>\u001b[0m     \u001b[39melse\u001b[39;00m:\n",
            "\u001b[0;31mValueError\u001b[0m: The truth value of an array with more than one element is ambiguous. Use a.any() or a.all()"
          ]
        }
      ],
      "source": [
        "from sklearn.metrics import accuracy_score, recall_score, confusion_matrix\n",
        "\n",
        "predictions = model.predict(test_padded)\n",
        "\n",
        "pred_labels = []\n",
        "\n",
        "for x in predictions:\n",
        "    if x >= 0.5:\n",
        "        pred_labels.append(1)\n",
        "    else:\n",
        "        pred_labels.append(0)\n",
        "\n",
        "test_accuracy = accuracy_score(y_test,pred_labels)\n",
        "test_recall = recall_score(y_test,pred_labels)\n",
        "print(f\"Test Accuracy: {round(test_accuracy,3)}\")\n",
        "print(f\"Test Recall: {round(test_recall,3)}\")\n",
        "\n",
        "print(\"\\nConfusion Matrix:\\n\",confusion_matrix(y_test,pred_labels))"
      ]
    },
    {
      "cell_type": "code",
      "execution_count": null,
      "metadata": {
        "id": "B8JiPvh47m1e"
      },
      "outputs": [],
      "source": []
    }
  ],
  "metadata": {
    "accelerator": "GPU",
    "colab": {
      "collapsed_sections": [],
      "name": "9-Embeddings-NLP.ipynb",
      "provenance": [],
      "toc_visible": true
    },
    "gpuClass": "standard",
    "kernelspec": {
      "display_name": "Python 3.8.10 ('SMS')",
      "language": "python",
      "name": "python3"
    },
    "language_info": {
      "codemirror_mode": {
        "name": "ipython",
        "version": 3
      },
      "file_extension": ".py",
      "mimetype": "text/x-python",
      "name": "python",
      "nbconvert_exporter": "python",
      "pygments_lexer": "ipython3",
      "version": "3.8.10"
    },
    "vscode": {
      "interpreter": {
        "hash": "6a89426a0b1e9fc4e2e70f4cf4409b0465d3987a26e67c0718acd94a19695925"
      }
    }
  },
  "nbformat": 4,
  "nbformat_minor": 0
}
