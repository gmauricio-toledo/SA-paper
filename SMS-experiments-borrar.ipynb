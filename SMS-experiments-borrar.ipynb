{
  "cells": [
    {
      "cell_type": "markdown",
      "metadata": {
        "id": "view-in-github",
        "colab_type": "text"
      },
      "source": [
        "<a href=\"https://colab.research.google.com/github/gmauricio-toledo/SA-paper/blob/master/SMS-experiments-borrar.ipynb\" target=\"_parent\"><img src=\"https://colab.research.google.com/assets/colab-badge.svg\" alt=\"Open In Colab\"/></a>"
      ]
    },
    {
      "cell_type": "markdown",
      "source": [
        "# Importar los archivos del proyecto"
      ],
      "metadata": {
        "id": "oze_aba4-9Ua"
      }
    },
    {
      "cell_type": "code",
      "source": [
        "!python -m spacy download es_core_news_sm"
      ],
      "metadata": {
        "id": "qpxdPTuM80Tm"
      },
      "execution_count": null,
      "outputs": []
    },
    {
      "cell_type": "markdown",
      "source": [
        "## Opción 1: Traer sólo los módulos con las clases:"
      ],
      "metadata": {
        "id": "qMNIimja_BbH"
      }
    },
    {
      "cell_type": "code",
      "source": [
        "import requests\n",
        "\n",
        "def get_module(url):\n",
        "    fname = url.split('/')[-1]\n",
        "    r = requests.get(url)\n",
        "    with open(fname, 'w') as f:\n",
        "        f.write(r.text)"
      ],
      "metadata": {
        "id": "icR_OdBg7UOk"
      },
      "execution_count": 11,
      "outputs": []
    },
    {
      "cell_type": "code",
      "source": [
        "urls = [\"https://raw.githubusercontent.com/gmauricio-toledo/SA-paper/master/experiment_tools_SA.py\",\n",
        "        \"https://raw.githubusercontent.com/gmauricio-toledo/SA-paper/master/scoring.py\",\n",
        "        \"https://raw.githubusercontent.com/gmauricio-toledo/SA-paper/master/SentimentKW.py\",\n",
        "        \"https://raw.githubusercontent.com/gmauricio-toledo/SA-paper/master/TextCleaner.py\",\n",
        "        \"https://raw.githubusercontent.com/gmauricio-toledo/SA-paper/master/TextRank.py\"\n",
        "        ]\n",
        "\n",
        "for url in urls:\n",
        "    get_module(url)"
      ],
      "metadata": {
        "id": "fsnmHWoxLEgS"
      },
      "execution_count": null,
      "outputs": []
    },
    {
      "cell_type": "markdown",
      "source": [
        "## Opción 2: Traer todo el repositorio github en el root"
      ],
      "metadata": {
        "id": "iC5Anj1l_IX5"
      }
    },
    {
      "cell_type": "code",
      "source": [
        "!git init\n",
        "!git pull https://github.com/gmauricio-toledo/SA-paper.git "
      ],
      "metadata": {
        "id": "7qYo2pV_-NkZ",
        "outputId": "1ced69d2-9b0f-4181-c08e-005e4031d0e1",
        "colab": {
          "base_uri": "https://localhost:8080/"
        }
      },
      "execution_count": 1,
      "outputs": [
        {
          "output_type": "stream",
          "name": "stdout",
          "text": [
            "Initialized empty Git repository in /content/.git/\n"
          ]
        }
      ]
    },
    {
      "cell_type": "markdown",
      "source": [
        "# Experiments"
      ],
      "metadata": {
        "id": "U7G5FSJG_ZNh"
      }
    },
    {
      "cell_type": "code",
      "execution_count": 6,
      "metadata": {
        "id": "8uNktOhJJkRY"
      },
      "outputs": [],
      "source": [
        "from gensim.models import Word2Vec\n",
        "from scoring import Scoring\n",
        "import pandas as pd\n",
        "import numpy as np"
      ]
    },
    {
      "cell_type": "markdown",
      "metadata": {
        "id": "0h5f3lhaJkR_"
      },
      "source": [
        "## Single run"
      ]
    },
    {
      "cell_type": "code",
      "execution_count": 8,
      "metadata": {
        "id": "4vnl9a4KJkSB",
        "outputId": "e5a126b5-a215-491e-9056-7d87ab8149ac",
        "colab": {
          "base_uri": "https://localhost:8080/",
          "height": 143
        }
      },
      "outputs": [
        {
          "output_type": "execute_result",
          "data": {
            "text/plain": [
              "      Llave  Paciente  Sexo  cal_vida  \\\n",
              "105     556       124     1      35.4   \n",
              "2252  12203      4886     1      90.0   \n",
              "4725  17949     11242     2       0.0   \n",
              "\n",
              "                                                  Texto  ds03  ds45  dp0  dp1  \\\n",
              "105   día entretenido sigo alguna molestia estomago ...     1     0    0  1.0   \n",
              "2252  conseguí entrevistarme alguien interesa remiti...     0     1    1  0.0   \n",
              "4725  día febrero pues miso mañana tranquilo habitac...     0     1    0  1.0   \n",
              "\n",
              "      ds0  ds1  ds2  ds3  ds4  ds5  ds   dp  \n",
              "105     0    0    0    1    0    0   3  1.0  \n",
              "2252    0    0    0    0    0    1   5  0.0  \n",
              "4725    0    0    0    0    1    0   4  1.0  "
            ],
            "text/html": [
              "\n",
              "  <div id=\"df-8858862c-2b50-4d0c-867e-1a42070afb62\">\n",
              "    <div class=\"colab-df-container\">\n",
              "      <div>\n",
              "<style scoped>\n",
              "    .dataframe tbody tr th:only-of-type {\n",
              "        vertical-align: middle;\n",
              "    }\n",
              "\n",
              "    .dataframe tbody tr th {\n",
              "        vertical-align: top;\n",
              "    }\n",
              "\n",
              "    .dataframe thead th {\n",
              "        text-align: right;\n",
              "    }\n",
              "</style>\n",
              "<table border=\"1\" class=\"dataframe\">\n",
              "  <thead>\n",
              "    <tr style=\"text-align: right;\">\n",
              "      <th></th>\n",
              "      <th>Llave</th>\n",
              "      <th>Paciente</th>\n",
              "      <th>Sexo</th>\n",
              "      <th>cal_vida</th>\n",
              "      <th>Texto</th>\n",
              "      <th>ds03</th>\n",
              "      <th>ds45</th>\n",
              "      <th>dp0</th>\n",
              "      <th>dp1</th>\n",
              "      <th>ds0</th>\n",
              "      <th>ds1</th>\n",
              "      <th>ds2</th>\n",
              "      <th>ds3</th>\n",
              "      <th>ds4</th>\n",
              "      <th>ds5</th>\n",
              "      <th>ds</th>\n",
              "      <th>dp</th>\n",
              "    </tr>\n",
              "  </thead>\n",
              "  <tbody>\n",
              "    <tr>\n",
              "      <th>105</th>\n",
              "      <td>556</td>\n",
              "      <td>124</td>\n",
              "      <td>1</td>\n",
              "      <td>35.4</td>\n",
              "      <td>día entretenido sigo alguna molestia estomago ...</td>\n",
              "      <td>1</td>\n",
              "      <td>0</td>\n",
              "      <td>0</td>\n",
              "      <td>1.0</td>\n",
              "      <td>0</td>\n",
              "      <td>0</td>\n",
              "      <td>0</td>\n",
              "      <td>1</td>\n",
              "      <td>0</td>\n",
              "      <td>0</td>\n",
              "      <td>3</td>\n",
              "      <td>1.0</td>\n",
              "    </tr>\n",
              "    <tr>\n",
              "      <th>2252</th>\n",
              "      <td>12203</td>\n",
              "      <td>4886</td>\n",
              "      <td>1</td>\n",
              "      <td>90.0</td>\n",
              "      <td>conseguí entrevistarme alguien interesa remiti...</td>\n",
              "      <td>0</td>\n",
              "      <td>1</td>\n",
              "      <td>1</td>\n",
              "      <td>0.0</td>\n",
              "      <td>0</td>\n",
              "      <td>0</td>\n",
              "      <td>0</td>\n",
              "      <td>0</td>\n",
              "      <td>0</td>\n",
              "      <td>1</td>\n",
              "      <td>5</td>\n",
              "      <td>0.0</td>\n",
              "    </tr>\n",
              "    <tr>\n",
              "      <th>4725</th>\n",
              "      <td>17949</td>\n",
              "      <td>11242</td>\n",
              "      <td>2</td>\n",
              "      <td>0.0</td>\n",
              "      <td>día febrero pues miso mañana tranquilo habitac...</td>\n",
              "      <td>0</td>\n",
              "      <td>1</td>\n",
              "      <td>0</td>\n",
              "      <td>1.0</td>\n",
              "      <td>0</td>\n",
              "      <td>0</td>\n",
              "      <td>0</td>\n",
              "      <td>0</td>\n",
              "      <td>1</td>\n",
              "      <td>0</td>\n",
              "      <td>4</td>\n",
              "      <td>1.0</td>\n",
              "    </tr>\n",
              "  </tbody>\n",
              "</table>\n",
              "</div>\n",
              "      <button class=\"colab-df-convert\" onclick=\"convertToInteractive('df-8858862c-2b50-4d0c-867e-1a42070afb62')\"\n",
              "              title=\"Convert this dataframe to an interactive table.\"\n",
              "              style=\"display:none;\">\n",
              "        \n",
              "  <svg xmlns=\"http://www.w3.org/2000/svg\" height=\"24px\"viewBox=\"0 0 24 24\"\n",
              "       width=\"24px\">\n",
              "    <path d=\"M0 0h24v24H0V0z\" fill=\"none\"/>\n",
              "    <path d=\"M18.56 5.44l.94 2.06.94-2.06 2.06-.94-2.06-.94-.94-2.06-.94 2.06-2.06.94zm-11 1L8.5 8.5l.94-2.06 2.06-.94-2.06-.94L8.5 2.5l-.94 2.06-2.06.94zm10 10l.94 2.06.94-2.06 2.06-.94-2.06-.94-.94-2.06-.94 2.06-2.06.94z\"/><path d=\"M17.41 7.96l-1.37-1.37c-.4-.4-.92-.59-1.43-.59-.52 0-1.04.2-1.43.59L10.3 9.45l-7.72 7.72c-.78.78-.78 2.05 0 2.83L4 21.41c.39.39.9.59 1.41.59.51 0 1.02-.2 1.41-.59l7.78-7.78 2.81-2.81c.8-.78.8-2.07 0-2.86zM5.41 20L4 18.59l7.72-7.72 1.47 1.35L5.41 20z\"/>\n",
              "  </svg>\n",
              "      </button>\n",
              "      \n",
              "  <style>\n",
              "    .colab-df-container {\n",
              "      display:flex;\n",
              "      flex-wrap:wrap;\n",
              "      gap: 12px;\n",
              "    }\n",
              "\n",
              "    .colab-df-convert {\n",
              "      background-color: #E8F0FE;\n",
              "      border: none;\n",
              "      border-radius: 50%;\n",
              "      cursor: pointer;\n",
              "      display: none;\n",
              "      fill: #1967D2;\n",
              "      height: 32px;\n",
              "      padding: 0 0 0 0;\n",
              "      width: 32px;\n",
              "    }\n",
              "\n",
              "    .colab-df-convert:hover {\n",
              "      background-color: #E2EBFA;\n",
              "      box-shadow: 0px 1px 2px rgba(60, 64, 67, 0.3), 0px 1px 3px 1px rgba(60, 64, 67, 0.15);\n",
              "      fill: #174EA6;\n",
              "    }\n",
              "\n",
              "    [theme=dark] .colab-df-convert {\n",
              "      background-color: #3B4455;\n",
              "      fill: #D2E3FC;\n",
              "    }\n",
              "\n",
              "    [theme=dark] .colab-df-convert:hover {\n",
              "      background-color: #434B5C;\n",
              "      box-shadow: 0px 1px 3px 1px rgba(0, 0, 0, 0.15);\n",
              "      filter: drop-shadow(0px 1px 2px rgba(0, 0, 0, 0.3));\n",
              "      fill: #FFFFFF;\n",
              "    }\n",
              "  </style>\n",
              "\n",
              "      <script>\n",
              "        const buttonEl =\n",
              "          document.querySelector('#df-8858862c-2b50-4d0c-867e-1a42070afb62 button.colab-df-convert');\n",
              "        buttonEl.style.display =\n",
              "          google.colab.kernel.accessAllowed ? 'block' : 'none';\n",
              "\n",
              "        async function convertToInteractive(key) {\n",
              "          const element = document.querySelector('#df-8858862c-2b50-4d0c-867e-1a42070afb62');\n",
              "          const dataTable =\n",
              "            await google.colab.kernel.invokeFunction('convertToInteractive',\n",
              "                                                     [key], {});\n",
              "          if (!dataTable) return;\n",
              "\n",
              "          const docLinkHtml = 'Like what you see? Visit the ' +\n",
              "            '<a target=\"_blank\" href=https://colab.research.google.com/notebooks/data_table.ipynb>data table notebook</a>'\n",
              "            + ' to learn more about interactive tables.';\n",
              "          element.innerHTML = '';\n",
              "          dataTable['output_type'] = 'display_data';\n",
              "          await google.colab.output.renderOutput(dataTable, element);\n",
              "          const docLink = document.createElement('div');\n",
              "          docLink.innerHTML = docLinkHtml;\n",
              "          element.appendChild(docLink);\n",
              "        }\n",
              "      </script>\n",
              "    </div>\n",
              "  </div>\n",
              "  "
            ]
          },
          "metadata": {},
          "execution_count": 8
        }
      ],
      "source": [
        "import pandas as pd\n",
        "from gensim.models import Word2Vec\n",
        "\n",
        "w2v_model = Word2Vec.load(\"data/word2vec.model\")\n",
        "\n",
        "# ---- Leemos los mensajes ----\n",
        "msjs_df = pd.read_csv(\"data/sms_full_dataframe.csv\",index_col=0)\n",
        "# msjs_df['Normalized Label'] = (2/5)*msjs_df['ds'].values-1\n",
        "# y = msjs_df['ds'].values\n",
        "\n",
        "msjs_df.sample(3)"
      ]
    },
    {
      "cell_type": "code",
      "execution_count": 9,
      "metadata": {
        "id": "gyBY6_pfJkSD",
        "outputId": "38015172-0d04-4d3e-ca50-c071332a3f47",
        "colab": {
          "base_uri": "https://localhost:8080/"
        }
      },
      "outputs": [
        {
          "output_type": "stream",
          "name": "stdout",
          "text": [
            "Dataframe contains entries with 6 labels:\n",
            "[0 1 2 3 4 5]\n"
          ]
        }
      ],
      "source": [
        "from experiment_tools_SA import SentimentAnalysis\n",
        "\n",
        "\n",
        "# betas1 = [0.5,1,2]#np.linspace(0.1,2,5)\n",
        "# betas2 = [0.5,1,2]#np.linspace(0.5,5,5)\n",
        "# nums_cols = [3,5,7]\n",
        "# alphas = [0.5,0.75,0.9]#np.linspace(0.25,0.98,5)\n",
        "\n",
        "# params_dict = {\n",
        "#                 # 'beta1':betas1,\n",
        "#                 # 'beta2':betas2,\n",
        "#                 'n_cols':nums_cols\n",
        "#                 # 'alpha':alphas\n",
        "#                 }\n",
        "\n",
        "\n",
        "\n",
        "hpd = {'emb_model': w2v_model}\n",
        "\n",
        "sa = SentimentAnalysis(hyper_params_dict=hpd,\n",
        "                        df=msjs_df,\n",
        "                        text_col_name='Texto',\n",
        "                        label_col_name='ds',\n",
        "                        )"
      ]
    },
    {
      "cell_type": "code",
      "execution_count": null,
      "metadata": {
        "id": "qVV9BFgNJkSF",
        "outputId": "27ae59e3-67f5-4957-9728-5727ae950989",
        "colab": {
          "base_uri": "https://localhost:8080/"
        }
      },
      "outputs": [
        {
          "output_type": "stream",
          "name": "stdout",
          "text": [
            "Calculando palabras prototípicas... "
          ]
        }
      ],
      "source": [
        "comb_dict = {\n",
        "            'beta1': 1,\n",
        "            'beta2': 5,\n",
        "            'n_cols': 9,\n",
        "            'alpha': 0.9,\n",
        "            'top_n': 100,\n",
        "            'n_iter': 3\n",
        "            }\n",
        "\n",
        "results = sa.run(combination_dict=comb_dict)"
      ]
    },
    {
      "cell_type": "code",
      "execution_count": null,
      "metadata": {
        "id": "Dme77OceJkSH",
        "outputId": "aecb2bcd-aaf5-48aa-a16a-3a47ddef039d"
      },
      "outputs": [
        {
          "name": "stdout",
          "output_type": "stream",
          "text": [
            "{'test_loss': 1.2134568691253662, 'test_accuracy': 0.53969407081604, 'predictions': array([3, 4, 5, ..., 5, 5, 0])}\n"
          ]
        }
      ],
      "source": [
        "print(results)"
      ]
    },
    {
      "cell_type": "markdown",
      "metadata": {
        "id": "Mrivu3CMJkSI"
      },
      "source": [
        "## Gridsearch"
      ]
    },
    {
      "cell_type": "code",
      "execution_count": null,
      "metadata": {
        "id": "AsS2MU2CJkSJ",
        "outputId": "175dc9c1-68b9-48f7-c5df-bc36d1ee2094"
      },
      "outputs": [
        {
          "data": {
            "text/html": [
              "<div>\n",
              "<style scoped>\n",
              "    .dataframe tbody tr th:only-of-type {\n",
              "        vertical-align: middle;\n",
              "    }\n",
              "\n",
              "    .dataframe tbody tr th {\n",
              "        vertical-align: top;\n",
              "    }\n",
              "\n",
              "    .dataframe thead th {\n",
              "        text-align: right;\n",
              "    }\n",
              "</style>\n",
              "<table border=\"1\" class=\"dataframe\">\n",
              "  <thead>\n",
              "    <tr style=\"text-align: right;\">\n",
              "      <th></th>\n",
              "      <th>Llave</th>\n",
              "      <th>Paciente</th>\n",
              "      <th>Sexo</th>\n",
              "      <th>cal_vida</th>\n",
              "      <th>Texto</th>\n",
              "      <th>ds03</th>\n",
              "      <th>ds45</th>\n",
              "      <th>dp0</th>\n",
              "      <th>dp1</th>\n",
              "      <th>ds0</th>\n",
              "      <th>ds1</th>\n",
              "      <th>ds2</th>\n",
              "      <th>ds3</th>\n",
              "      <th>ds4</th>\n",
              "      <th>ds5</th>\n",
              "      <th>ds</th>\n",
              "      <th>dp</th>\n",
              "    </tr>\n",
              "  </thead>\n",
              "  <tbody>\n",
              "    <tr>\n",
              "      <th>214</th>\n",
              "      <td>898</td>\n",
              "      <td>182</td>\n",
              "      <td>2</td>\n",
              "      <td>44.6</td>\n",
              "      <td>nota apuntada si hijo consigue quiere quiere f...</td>\n",
              "      <td>1</td>\n",
              "      <td>0</td>\n",
              "      <td>0</td>\n",
              "      <td>1.0</td>\n",
              "      <td>0</td>\n",
              "      <td>1</td>\n",
              "      <td>0</td>\n",
              "      <td>0</td>\n",
              "      <td>0</td>\n",
              "      <td>0</td>\n",
              "      <td>1</td>\n",
              "      <td>1.0</td>\n",
              "    </tr>\n",
              "    <tr>\n",
              "      <th>2510</th>\n",
              "      <td>12933</td>\n",
              "      <td>5230</td>\n",
              "      <td>1</td>\n",
              "      <td>21.4</td>\n",
              "      <td>levanto cansada bastantes dolores espalda braz...</td>\n",
              "      <td>0</td>\n",
              "      <td>1</td>\n",
              "      <td>1</td>\n",
              "      <td>0.0</td>\n",
              "      <td>0</td>\n",
              "      <td>0</td>\n",
              "      <td>0</td>\n",
              "      <td>0</td>\n",
              "      <td>0</td>\n",
              "      <td>1</td>\n",
              "      <td>5</td>\n",
              "      <td>0.0</td>\n",
              "    </tr>\n",
              "    <tr>\n",
              "      <th>1119</th>\n",
              "      <td>7105</td>\n",
              "      <td>2305</td>\n",
              "      <td>2</td>\n",
              "      <td>2.2</td>\n",
              "      <td>cansado torpe hoy caído calle puede ser cada v...</td>\n",
              "      <td>1</td>\n",
              "      <td>0</td>\n",
              "      <td>0</td>\n",
              "      <td>1.0</td>\n",
              "      <td>1</td>\n",
              "      <td>0</td>\n",
              "      <td>0</td>\n",
              "      <td>0</td>\n",
              "      <td>0</td>\n",
              "      <td>0</td>\n",
              "      <td>0</td>\n",
              "      <td>1.0</td>\n",
              "    </tr>\n",
              "  </tbody>\n",
              "</table>\n",
              "</div>"
            ],
            "text/plain": [
              "      Llave  Paciente  Sexo  cal_vida  \\\n",
              "214     898       182     2      44.6   \n",
              "2510  12933      5230     1      21.4   \n",
              "1119   7105      2305     2       2.2   \n",
              "\n",
              "                                                  Texto  ds03  ds45  dp0  dp1  \\\n",
              "214   nota apuntada si hijo consigue quiere quiere f...     1     0    0  1.0   \n",
              "2510  levanto cansada bastantes dolores espalda braz...     0     1    1  0.0   \n",
              "1119  cansado torpe hoy caído calle puede ser cada v...     1     0    0  1.0   \n",
              "\n",
              "      ds0  ds1  ds2  ds3  ds4  ds5  ds   dp  \n",
              "214     0    1    0    0    0    0   1  1.0  \n",
              "2510    0    0    0    0    0    1   5  0.0  \n",
              "1119    1    0    0    0    0    0   0  1.0  "
            ]
          },
          "metadata": {},
          "output_type": "display_data"
        },
        {
          "name": "stdout",
          "output_type": "stream",
          "text": [
            "Dataframe contains entries with 6 labels:\n",
            "[0 1 2 3 4 5]\n"
          ]
        }
      ],
      "source": [
        "from experiment_tools_SA import SentimentAnalysis\n",
        "import pandas as pd\n",
        "from gensim.models import Word2Vec\n",
        "\n",
        "w2v_model = Word2Vec.load(\"data/word2vec.model\")\n",
        "\n",
        "# ---- Leemos los mensajes ----\n",
        "msjs_df = pd.read_csv(\"data/sms_full_dataframe.csv\",index_col=0)\n",
        "# msjs_df['Normalized Label'] = (2/5)*msjs_df['ds'].values-1\n",
        "# y = msjs_df['ds'].values\n",
        "\n",
        "display(msjs_df.sample(3))\n",
        "\n",
        "hpd = {'emb_model': w2v_model}\n",
        "\n",
        "sa = SentimentAnalysis(hyper_params_dict=hpd,\n",
        "                        df=msjs_df,\n",
        "                        text_col_name='Texto',\n",
        "                        label_col_name='ds',\n",
        "                        )"
      ]
    },
    {
      "cell_type": "code",
      "execution_count": null,
      "metadata": {
        "id": "WBAzQI5JJkSK"
      },
      "outputs": [],
      "source": [
        "betas1 = [0.5,1]#np.linspace(0.1,2,5)\n",
        "betas2 = [1,2]#np.linspace(0.5,5,5)\n",
        "nums_cols = [3,7]\n",
        "alphas = [0.9]#np.linspace(0.25,0.98,5)\n",
        "\n",
        "params_dict = {\n",
        "                'beta1':betas1,\n",
        "                'beta2':betas2,\n",
        "                'n_cols':nums_cols,\n",
        "                'alpha':alphas\n",
        "                }\n",
        "\n",
        "\n",
        "dpd = {\n",
        "                'beta1': 1,\n",
        "                'beta2': 1,\n",
        "                'n_cols': 5,\n",
        "                'alpha': 0.5,\n",
        "                'top_n': 50,\n",
        "                'n_iter': 3\n",
        "                }\n",
        "\n",
        "sa.grid_search(param_dict=params_dict,\n",
        "                default_params_dict=dpd)"
      ]
    },
    {
      "cell_type": "code",
      "execution_count": null,
      "metadata": {
        "id": "joKfj_LWJkSN"
      },
      "outputs": [],
      "source": []
    }
  ],
  "metadata": {
    "kernelspec": {
      "display_name": "Python 3.8.10 64-bit",
      "language": "python",
      "name": "python3"
    },
    "language_info": {
      "codemirror_mode": {
        "name": "ipython",
        "version": 3
      },
      "file_extension": ".py",
      "mimetype": "text/x-python",
      "name": "python",
      "nbconvert_exporter": "python",
      "pygments_lexer": "ipython3",
      "version": "3.8.10"
    },
    "orig_nbformat": 4,
    "vscode": {
      "interpreter": {
        "hash": "31f2aee4e71d21fbe5cf8b01ff0e069b9275f58929596ceb00d14d90e3e16cd6"
      }
    },
    "colab": {
      "provenance": [],
      "include_colab_link": true
    }
  },
  "nbformat": 4,
  "nbformat_minor": 0
}