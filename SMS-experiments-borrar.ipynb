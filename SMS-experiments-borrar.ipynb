{
  "cells": [
    {
      "cell_type": "markdown",
      "metadata": {
        "colab_type": "text",
        "id": "view-in-github"
      },
      "source": [
        "<a href=\"https://colab.research.google.com/github/gmauricio-toledo/SA-paper/blob/master/SMS-experiments-borrar.ipynb\" target=\"_parent\"><img src=\"https://colab.research.google.com/assets/colab-badge.svg\" alt=\"Open In Colab\"/></a>"
      ]
    },
    {
      "cell_type": "markdown",
      "metadata": {
        "id": "oze_aba4-9Ua"
      },
      "source": [
        "# Importar los archivos del proyecto"
      ]
    },
    {
      "cell_type": "code",
      "execution_count": null,
      "metadata": {
        "id": "qpxdPTuM80Tm"
      },
      "outputs": [],
      "source": [
        "!python -m spacy download es_core_news_sm"
      ]
    },
    {
      "cell_type": "markdown",
      "metadata": {
        "id": "qMNIimja_BbH"
      },
      "source": [
        "## Opción 1: Traer sólo los módulos con las clases:"
      ]
    },
    {
      "cell_type": "code",
      "execution_count": 11,
      "metadata": {
        "id": "icR_OdBg7UOk"
      },
      "outputs": [],
      "source": [
        "import requests\n",
        "\n",
        "def get_module(url):\n",
        "    fname = url.split('/')[-1]\n",
        "    r = requests.get(url)\n",
        "    with open(fname, 'w') as f:\n",
        "        f.write(r.text)"
      ]
    },
    {
      "cell_type": "code",
      "execution_count": null,
      "metadata": {
        "id": "fsnmHWoxLEgS"
      },
      "outputs": [],
      "source": [
        "urls = [\"https://raw.githubusercontent.com/gmauricio-toledo/SA-paper/master/experiment_tools_SA.py\",\n",
        "        \"https://raw.githubusercontent.com/gmauricio-toledo/SA-paper/master/scoring.py\",\n",
        "        \"https://raw.githubusercontent.com/gmauricio-toledo/SA-paper/master/SentimentKW.py\",\n",
        "        \"https://raw.githubusercontent.com/gmauricio-toledo/SA-paper/master/TextCleaner.py\",\n",
        "        \"https://raw.githubusercontent.com/gmauricio-toledo/SA-paper/master/TextRank.py\"\n",
        "        ]\n",
        "\n",
        "for url in urls:\n",
        "    get_module(url)"
      ]
    },
    {
      "cell_type": "markdown",
      "metadata": {
        "id": "iC5Anj1l_IX5"
      },
      "source": [
        "## Opción 2: Traer todo el repositorio github en el root"
      ]
    },
    {
      "cell_type": "code",
      "execution_count": 1,
      "metadata": {
        "colab": {
          "base_uri": "https://localhost:8080/"
        },
        "id": "7qYo2pV_-NkZ",
        "outputId": "1ced69d2-9b0f-4181-c08e-005e4031d0e1"
      },
      "outputs": [
        {
          "name": "stdout",
          "output_type": "stream",
          "text": [
            "Initialized empty Git repository in /content/.git/\n"
          ]
        }
      ],
      "source": [
        "!git init\n",
        "!git pull https://github.com/gmauricio-toledo/SA-paper.git "
      ]
    },
    {
      "cell_type": "code",
      "execution_count": 13,
      "metadata": {
        "colab": {
          "base_uri": "https://localhost:8080/",
          "height": 369
        },
        "id": "enS918h2CvvF",
        "outputId": "96bf23aa-9374-432b-bfd8-ea0a87e27abc"
      },
      "outputs": [
        {
          "name": "stdout",
          "output_type": "stream",
          "text": [
            "Looking in indexes: https://pypi.org/simple, https://us-python.pkg.dev/colab-wheels/public/simple/\n",
            "Requirement already satisfied: gensim in /usr/local/lib/python3.7/dist-packages (3.6.0)\n",
            "Collecting gensim\n",
            "  Downloading gensim-4.2.0-cp37-cp37m-manylinux_2_12_x86_64.manylinux2010_x86_64.whl (24.1 MB)\n",
            "\u001b[K     |████████████████████████████████| 24.1 MB 52.7 MB/s \n",
            "\u001b[?25hRequirement already satisfied: numpy>=1.17.0 in /usr/local/lib/python3.7/dist-packages (from gensim) (1.21.6)\n",
            "Requirement already satisfied: scipy>=0.18.1 in /usr/local/lib/python3.7/dist-packages (from gensim) (1.7.3)\n",
            "Requirement already satisfied: smart-open>=1.8.1 in /usr/local/lib/python3.7/dist-packages (from gensim) (5.2.1)\n",
            "Installing collected packages: gensim\n",
            "  Attempting uninstall: gensim\n",
            "    Found existing installation: gensim 3.6.0\n",
            "    Uninstalling gensim-3.6.0:\n",
            "      Successfully uninstalled gensim-3.6.0\n",
            "Successfully installed gensim-4.2.0\n"
          ]
        },
        {
          "data": {
            "application/vnd.colab-display-data+json": {
              "pip_warning": {
                "packages": [
                  "gensim"
                ]
              }
            }
          },
          "metadata": {},
          "output_type": "display_data"
        }
      ],
      "source": [
        "!pip install --upgrade gensim"
      ]
    },
    {
      "cell_type": "markdown",
      "metadata": {
        "id": "U7G5FSJG_ZNh"
      },
      "source": [
        "# Experiments"
      ]
    },
    {
      "cell_type": "code",
      "execution_count": 1,
      "metadata": {
        "id": "8uNktOhJJkRY"
      },
      "outputs": [],
      "source": [
        "from gensim.models import Word2Vec\n",
        "from scoring import Scoring\n",
        "import pandas as pd\n",
        "import numpy as np"
      ]
    },
    {
      "cell_type": "markdown",
      "metadata": {
        "id": "0h5f3lhaJkR_"
      },
      "source": [
        "## Single run"
      ]
    },
    {
      "cell_type": "code",
      "execution_count": 2,
      "metadata": {
        "colab": {
          "base_uri": "https://localhost:8080/",
          "height": 431
        },
        "id": "4vnl9a4KJkSB",
        "outputId": "820e7901-9b6a-4e1e-b457-e0d77d1ce68a"
      },
      "outputs": [
        {
          "data": {
            "text/html": [
              "\n",
              "  <div id=\"df-47b86ca7-e2a5-473c-abce-831446a13f00\">\n",
              "    <div class=\"colab-df-container\">\n",
              "      <div>\n",
              "<style scoped>\n",
              "    .dataframe tbody tr th:only-of-type {\n",
              "        vertical-align: middle;\n",
              "    }\n",
              "\n",
              "    .dataframe tbody tr th {\n",
              "        vertical-align: top;\n",
              "    }\n",
              "\n",
              "    .dataframe thead th {\n",
              "        text-align: right;\n",
              "    }\n",
              "</style>\n",
              "<table border=\"1\" class=\"dataframe\">\n",
              "  <thead>\n",
              "    <tr style=\"text-align: right;\">\n",
              "      <th></th>\n",
              "      <th>Llave</th>\n",
              "      <th>Paciente</th>\n",
              "      <th>Sexo</th>\n",
              "      <th>cal_vida</th>\n",
              "      <th>Texto</th>\n",
              "      <th>ds03</th>\n",
              "      <th>ds45</th>\n",
              "      <th>dp0</th>\n",
              "      <th>dp1</th>\n",
              "      <th>ds0</th>\n",
              "      <th>ds1</th>\n",
              "      <th>ds2</th>\n",
              "      <th>ds3</th>\n",
              "      <th>ds4</th>\n",
              "      <th>ds5</th>\n",
              "      <th>ds</th>\n",
              "      <th>dp</th>\n",
              "    </tr>\n",
              "  </thead>\n",
              "  <tbody>\n",
              "    <tr>\n",
              "      <th>3773</th>\n",
              "      <td>16019</td>\n",
              "      <td>7959</td>\n",
              "      <td>1</td>\n",
              "      <td>46.6</td>\n",
              "      <td>sigo soñando muchas personas cada vez definida...</td>\n",
              "      <td>0</td>\n",
              "      <td>1</td>\n",
              "      <td>1</td>\n",
              "      <td>0.0</td>\n",
              "      <td>0</td>\n",
              "      <td>0</td>\n",
              "      <td>0</td>\n",
              "      <td>0</td>\n",
              "      <td>0</td>\n",
              "      <td>1</td>\n",
              "      <td>5</td>\n",
              "      <td>0.0</td>\n",
              "    </tr>\n",
              "    <tr>\n",
              "      <th>4827</th>\n",
              "      <td>18118</td>\n",
              "      <td>11770</td>\n",
              "      <td>1</td>\n",
              "      <td>68.0</td>\n",
              "      <td>semana bastante estresante pensando jueves cit...</td>\n",
              "      <td>0</td>\n",
              "      <td>1</td>\n",
              "      <td>1</td>\n",
              "      <td>0.0</td>\n",
              "      <td>0</td>\n",
              "      <td>0</td>\n",
              "      <td>0</td>\n",
              "      <td>0</td>\n",
              "      <td>0</td>\n",
              "      <td>1</td>\n",
              "      <td>5</td>\n",
              "      <td>0.0</td>\n",
              "    </tr>\n",
              "    <tr>\n",
              "      <th>4186</th>\n",
              "      <td>16810</td>\n",
              "      <td>9282</td>\n",
              "      <td>1</td>\n",
              "      <td>65.2</td>\n",
              "      <td>hoy ido excursión unas amigas agencia arawak v...</td>\n",
              "      <td>0</td>\n",
              "      <td>1</td>\n",
              "      <td>0</td>\n",
              "      <td>1.0</td>\n",
              "      <td>0</td>\n",
              "      <td>0</td>\n",
              "      <td>0</td>\n",
              "      <td>0</td>\n",
              "      <td>1</td>\n",
              "      <td>0</td>\n",
              "      <td>4</td>\n",
              "      <td>1.0</td>\n",
              "    </tr>\n",
              "  </tbody>\n",
              "</table>\n",
              "</div>\n",
              "      <button class=\"colab-df-convert\" onclick=\"convertToInteractive('df-47b86ca7-e2a5-473c-abce-831446a13f00')\"\n",
              "              title=\"Convert this dataframe to an interactive table.\"\n",
              "              style=\"display:none;\">\n",
              "        \n",
              "  <svg xmlns=\"http://www.w3.org/2000/svg\" height=\"24px\"viewBox=\"0 0 24 24\"\n",
              "       width=\"24px\">\n",
              "    <path d=\"M0 0h24v24H0V0z\" fill=\"none\"/>\n",
              "    <path d=\"M18.56 5.44l.94 2.06.94-2.06 2.06-.94-2.06-.94-.94-2.06-.94 2.06-2.06.94zm-11 1L8.5 8.5l.94-2.06 2.06-.94-2.06-.94L8.5 2.5l-.94 2.06-2.06.94zm10 10l.94 2.06.94-2.06 2.06-.94-2.06-.94-.94-2.06-.94 2.06-2.06.94z\"/><path d=\"M17.41 7.96l-1.37-1.37c-.4-.4-.92-.59-1.43-.59-.52 0-1.04.2-1.43.59L10.3 9.45l-7.72 7.72c-.78.78-.78 2.05 0 2.83L4 21.41c.39.39.9.59 1.41.59.51 0 1.02-.2 1.41-.59l7.78-7.78 2.81-2.81c.8-.78.8-2.07 0-2.86zM5.41 20L4 18.59l7.72-7.72 1.47 1.35L5.41 20z\"/>\n",
              "  </svg>\n",
              "      </button>\n",
              "      \n",
              "  <style>\n",
              "    .colab-df-container {\n",
              "      display:flex;\n",
              "      flex-wrap:wrap;\n",
              "      gap: 12px;\n",
              "    }\n",
              "\n",
              "    .colab-df-convert {\n",
              "      background-color: #E8F0FE;\n",
              "      border: none;\n",
              "      border-radius: 50%;\n",
              "      cursor: pointer;\n",
              "      display: none;\n",
              "      fill: #1967D2;\n",
              "      height: 32px;\n",
              "      padding: 0 0 0 0;\n",
              "      width: 32px;\n",
              "    }\n",
              "\n",
              "    .colab-df-convert:hover {\n",
              "      background-color: #E2EBFA;\n",
              "      box-shadow: 0px 1px 2px rgba(60, 64, 67, 0.3), 0px 1px 3px 1px rgba(60, 64, 67, 0.15);\n",
              "      fill: #174EA6;\n",
              "    }\n",
              "\n",
              "    [theme=dark] .colab-df-convert {\n",
              "      background-color: #3B4455;\n",
              "      fill: #D2E3FC;\n",
              "    }\n",
              "\n",
              "    [theme=dark] .colab-df-convert:hover {\n",
              "      background-color: #434B5C;\n",
              "      box-shadow: 0px 1px 3px 1px rgba(0, 0, 0, 0.15);\n",
              "      filter: drop-shadow(0px 1px 2px rgba(0, 0, 0, 0.3));\n",
              "      fill: #FFFFFF;\n",
              "    }\n",
              "  </style>\n",
              "\n",
              "      <script>\n",
              "        const buttonEl =\n",
              "          document.querySelector('#df-47b86ca7-e2a5-473c-abce-831446a13f00 button.colab-df-convert');\n",
              "        buttonEl.style.display =\n",
              "          google.colab.kernel.accessAllowed ? 'block' : 'none';\n",
              "\n",
              "        async function convertToInteractive(key) {\n",
              "          const element = document.querySelector('#df-47b86ca7-e2a5-473c-abce-831446a13f00');\n",
              "          const dataTable =\n",
              "            await google.colab.kernel.invokeFunction('convertToInteractive',\n",
              "                                                     [key], {});\n",
              "          if (!dataTable) return;\n",
              "\n",
              "          const docLinkHtml = 'Like what you see? Visit the ' +\n",
              "            '<a target=\"_blank\" href=https://colab.research.google.com/notebooks/data_table.ipynb>data table notebook</a>'\n",
              "            + ' to learn more about interactive tables.';\n",
              "          element.innerHTML = '';\n",
              "          dataTable['output_type'] = 'display_data';\n",
              "          await google.colab.output.renderOutput(dataTable, element);\n",
              "          const docLink = document.createElement('div');\n",
              "          docLink.innerHTML = docLinkHtml;\n",
              "          element.appendChild(docLink);\n",
              "        }\n",
              "      </script>\n",
              "    </div>\n",
              "  </div>\n",
              "  "
            ],
            "text/plain": [
              "      Llave  Paciente  Sexo  cal_vida  \\\n",
              "3773  16019      7959     1      46.6   \n",
              "4827  18118     11770     1      68.0   \n",
              "4186  16810      9282     1      65.2   \n",
              "\n",
              "                                                  Texto  ds03  ds45  dp0  dp1  \\\n",
              "3773  sigo soñando muchas personas cada vez definida...     0     1    1  0.0   \n",
              "4827  semana bastante estresante pensando jueves cit...     0     1    1  0.0   \n",
              "4186  hoy ido excursión unas amigas agencia arawak v...     0     1    0  1.0   \n",
              "\n",
              "      ds0  ds1  ds2  ds3  ds4  ds5  ds   dp  \n",
              "3773    0    0    0    0    0    1   5  0.0  \n",
              "4827    0    0    0    0    0    1   5  0.0  \n",
              "4186    0    0    0    0    1    0   4  1.0  "
            ]
          },
          "execution_count": 2,
          "metadata": {},
          "output_type": "execute_result"
        }
      ],
      "source": [
        "import pandas as pd\n",
        "from gensim.models import Word2Vec\n",
        "\n",
        "w2v_model = Word2Vec.load(\"data/word2vec.model\")\n",
        "\n",
        "# ---- Leemos los mensajes ----\n",
        "msjs_df = pd.read_csv(\"data/sms_full_dataframe.csv\",index_col=0)\n",
        "# msjs_df['Normalized Label'] = (2/5)*msjs_df['ds'].values-1\n",
        "# y = msjs_df['ds'].values\n",
        "\n",
        "msjs_df.sample(3)"
      ]
    },
    {
      "cell_type": "code",
      "execution_count": 3,
      "metadata": {
        "colab": {
          "base_uri": "https://localhost:8080/"
        },
        "id": "gyBY6_pfJkSD",
        "outputId": "44d12ba1-12f5-41b4-f023-8bd043920a2b"
      },
      "outputs": [
        {
          "name": "stdout",
          "output_type": "stream",
          "text": [
            "Dataframe contains entries with 6 labels:\n",
            "[0 1 2 3 4 5]\n"
          ]
        }
      ],
      "source": [
        "from experiment_tools_SA import SentimentAnalysis\n",
        "\n",
        "\n",
        "# betas1 = [0.5,1,2]#np.linspace(0.1,2,5)\n",
        "# betas2 = [0.5,1,2]#np.linspace(0.5,5,5)\n",
        "# nums_cols = [3,5,7]\n",
        "# alphas = [0.5,0.75,0.9]#np.linspace(0.25,0.98,5)\n",
        "\n",
        "# params_dict = {\n",
        "#                 # 'beta1':betas1,\n",
        "#                 # 'beta2':betas2,\n",
        "#                 'n_cols':nums_cols\n",
        "#                 # 'alpha':alphas\n",
        "#                 }\n",
        "\n",
        "\n",
        "\n",
        "hpd = {'emb_model': w2v_model}\n",
        "\n",
        "sa = SentimentAnalysis(hyper_params_dict=hpd,\n",
        "                        df=msjs_df,\n",
        "                        text_col_name='Texto',\n",
        "                        label_col_name='ds',\n",
        "                        )"
      ]
    },
    {
      "cell_type": "code",
      "execution_count": 4,
      "metadata": {
        "colab": {
          "base_uri": "https://localhost:8080/"
        },
        "id": "qVV9BFgNJkSF",
        "outputId": "799a24ba-b974-4b6d-c001-bc6a9f0add0d"
      },
      "outputs": [
        {
          "name": "stdout",
          "output_type": "stream",
          "text": [
            "Calculando palabras prototípicas... done in 381.64676\n",
            "Construyendo vecinos... done in 337.2408\n",
            "Calculando puntajes... done in 8.02782\n",
            "Calculando representaciones... done in 5.04637\n",
            "43/43 [==============================] - 0s 9ms/step - loss: 1.3738 - accuracy: 0.5237\n",
            "done in 27.65698\n",
            "Iteración 1/3 completada.\n",
            "Construyendo vecinos... done in 735.70558\n",
            "Calculando puntajes... done in 8.03441\n",
            "Calculando representaciones... done in 4.92504\n",
            "43/43 [==============================] - 0s 9ms/step - loss: 1.2090 - accuracy: 0.5666\n",
            "done in 33.54966\n",
            "Iteración 2/3 completada.\n",
            "Construyendo vecinos... done in 736.01638\n",
            "Calculando puntajes... done in 8.07116\n",
            "Calculando representaciones... done in 5.15763\n",
            "43/43 [==============================] - 0s 9ms/step - loss: 1.2867 - accuracy: 0.5470\n",
            "done in 32.50956\n",
            "Iteración 3/3 completada.\n"
          ]
        }
      ],
      "source": [
        "comb_dict = {\n",
        "            'beta1': 1,\n",
        "            'beta2': 5,\n",
        "            'n_cols': 9,\n",
        "            'alpha': 0.9,\n",
        "            'top_n': 100,\n",
        "            'n_iter': 3\n",
        "            }\n",
        "\n",
        "results = sa.run(combination_dict=comb_dict)"
      ]
    },
    {
      "cell_type": "code",
      "execution_count": 6,
      "metadata": {
        "colab": {
          "base_uri": "https://localhost:8080/"
        },
        "id": "Dme77OceJkSH",
        "outputId": "86fd36ff-49dd-4014-e2d1-a56207d779d3"
      },
      "outputs": [
        {
          "name": "stdout",
          "output_type": "stream",
          "text": [
            "{'test_loss': 1.286723256111145, 'test_accuracy': 0.5469774007797241, 'predictions': array([5, 5, 5, ..., 5, 5, 0])}\n"
          ]
        }
      ],
      "source": [
        "print(results)"
      ]
    },
    {
      "cell_type": "markdown",
      "metadata": {
        "id": "Mrivu3CMJkSI"
      },
      "source": [
        "## Gridsearch"
      ]
    },
    {
      "cell_type": "code",
      "execution_count": 5,
      "metadata": {
        "id": "AsS2MU2CJkSJ",
        "outputId": "175dc9c1-68b9-48f7-c5df-bc36d1ee2094"
      },
      "outputs": [
        {
          "data": {
            "text/html": [
              "<div>\n",
              "<style scoped>\n",
              "    .dataframe tbody tr th:only-of-type {\n",
              "        vertical-align: middle;\n",
              "    }\n",
              "\n",
              "    .dataframe tbody tr th {\n",
              "        vertical-align: top;\n",
              "    }\n",
              "\n",
              "    .dataframe thead th {\n",
              "        text-align: right;\n",
              "    }\n",
              "</style>\n",
              "<table border=\"1\" class=\"dataframe\">\n",
              "  <thead>\n",
              "    <tr style=\"text-align: right;\">\n",
              "      <th></th>\n",
              "      <th>Llave</th>\n",
              "      <th>Paciente</th>\n",
              "      <th>Sexo</th>\n",
              "      <th>cal_vida</th>\n",
              "      <th>Texto</th>\n",
              "      <th>ds03</th>\n",
              "      <th>ds45</th>\n",
              "      <th>dp0</th>\n",
              "      <th>dp1</th>\n",
              "      <th>ds0</th>\n",
              "      <th>ds1</th>\n",
              "      <th>ds2</th>\n",
              "      <th>ds3</th>\n",
              "      <th>ds4</th>\n",
              "      <th>ds5</th>\n",
              "      <th>ds</th>\n",
              "      <th>dp</th>\n",
              "    </tr>\n",
              "  </thead>\n",
              "  <tbody>\n",
              "    <tr>\n",
              "      <th>2892</th>\n",
              "      <td>13973</td>\n",
              "      <td>5924</td>\n",
              "      <td>1</td>\n",
              "      <td>77.2</td>\n",
              "      <td>hoy ido gimnasio bien cómoda tarde ido dar pas...</td>\n",
              "      <td>0</td>\n",
              "      <td>1</td>\n",
              "      <td>1</td>\n",
              "      <td>0.0</td>\n",
              "      <td>0</td>\n",
              "      <td>0</td>\n",
              "      <td>0</td>\n",
              "      <td>0</td>\n",
              "      <td>0</td>\n",
              "      <td>1</td>\n",
              "      <td>5</td>\n",
              "      <td>0.0</td>\n",
              "    </tr>\n",
              "    <tr>\n",
              "      <th>504</th>\n",
              "      <td>3866</td>\n",
              "      <td>1167</td>\n",
              "      <td>1</td>\n",
              "      <td>16.8</td>\n",
              "      <td>dormido bien único recogido bajado perro menud...</td>\n",
              "      <td>1</td>\n",
              "      <td>0</td>\n",
              "      <td>0</td>\n",
              "      <td>1.0</td>\n",
              "      <td>0</td>\n",
              "      <td>0</td>\n",
              "      <td>1</td>\n",
              "      <td>0</td>\n",
              "      <td>0</td>\n",
              "      <td>0</td>\n",
              "      <td>2</td>\n",
              "      <td>1.0</td>\n",
              "    </tr>\n",
              "    <tr>\n",
              "      <th>4093</th>\n",
              "      <td>16620</td>\n",
              "      <td>8857</td>\n",
              "      <td>2</td>\n",
              "      <td>26.6</td>\n",
              "      <td>hola rodado águila roja carlos emperador espec...</td>\n",
              "      <td>0</td>\n",
              "      <td>1</td>\n",
              "      <td>0</td>\n",
              "      <td>1.0</td>\n",
              "      <td>0</td>\n",
              "      <td>0</td>\n",
              "      <td>0</td>\n",
              "      <td>0</td>\n",
              "      <td>1</td>\n",
              "      <td>0</td>\n",
              "      <td>4</td>\n",
              "      <td>1.0</td>\n",
              "    </tr>\n",
              "  </tbody>\n",
              "</table>\n",
              "</div>"
            ],
            "text/plain": [
              "      Llave  Paciente  Sexo  cal_vida  \\\n",
              "2892  13973      5924     1      77.2   \n",
              "504    3866      1167     1      16.8   \n",
              "4093  16620      8857     2      26.6   \n",
              "\n",
              "                                                  Texto  ds03  ds45  dp0  dp1  \\\n",
              "2892  hoy ido gimnasio bien cómoda tarde ido dar pas...     0     1    1  0.0   \n",
              "504   dormido bien único recogido bajado perro menud...     1     0    0  1.0   \n",
              "4093  hola rodado águila roja carlos emperador espec...     0     1    0  1.0   \n",
              "\n",
              "      ds0  ds1  ds2  ds3  ds4  ds5  ds   dp  \n",
              "2892    0    0    0    0    0    1   5  0.0  \n",
              "504     0    0    1    0    0    0   2  1.0  \n",
              "4093    0    0    0    0    1    0   4  1.0  "
            ]
          },
          "metadata": {},
          "output_type": "display_data"
        },
        {
          "name": "stdout",
          "output_type": "stream",
          "text": [
            "Dataframe contains entries with 6 labels:\n",
            "[0 1 2 3 4 5]\n"
          ]
        }
      ],
      "source": [
        "from experiment_tools_SA import SentimentAnalysis\n",
        "import pandas as pd\n",
        "from gensim.models import Word2Vec\n",
        "\n",
        "w2v_model = Word2Vec.load(\"data/word2vec.model\")\n",
        "\n",
        "# ---- Leemos los mensajes ----\n",
        "msjs_df = pd.read_csv(\"data/sms_full_dataframe.csv\",index_col=0)\n",
        "display(msjs_df.sample(3))\n",
        "\n",
        "hpd = {'emb_model': w2v_model}\n",
        "\n",
        "sa = SentimentAnalysis(hyper_params_dict=hpd,\n",
        "                        df=msjs_df,\n",
        "                        text_col_name='Texto',\n",
        "                        label_col_name='ds',\n",
        "                        )"
      ]
    },
    {
      "cell_type": "code",
      "execution_count": null,
      "metadata": {
        "id": "WBAzQI5JJkSK"
      },
      "outputs": [],
      "source": [
        "betas1 = [0.5,1,2] #np.linspace(0.1,2,5)\n",
        "betas2 = [0.5,1,2] #np.linspace(0.5,5,5)\n",
        "nums_cols = [3,5,7,9]\n",
        "alphas = [0.5,0.75,0.9]#np.linspace(0.25,0.98,5)\n",
        "n_iters = [3,4,5]\n",
        "tops_n = [50,100,200]\n",
        "\n",
        "params_dict = {\n",
        "                'beta1':betas1,\n",
        "                'beta2':betas2,\n",
        "                'n_cols':nums_cols,\n",
        "                'alpha':alphas\n",
        "                }\n",
        "\n",
        "\n",
        "dpd = {\n",
        "                'beta1': 1,\n",
        "                'beta2': 1,\n",
        "                'n_cols': 5,\n",
        "                'alpha': 0.5,\n",
        "                'top_n': 50,\n",
        "                'n_iter': 3\n",
        "                }\n",
        "\n",
        "sa.grid_search(param_dict=params_dict,\n",
        "                default_params_dict=dpd)"
      ]
    },
    {
      "cell_type": "code",
      "execution_count": 7,
      "metadata": {
        "id": "joKfj_LWJkSN"
      },
      "outputs": [
        {
          "data": {
            "text/plain": [
              "0.6023306846618652"
            ]
          },
          "execution_count": 7,
          "metadata": {},
          "output_type": "execute_result"
        }
      ],
      "source": [
        "sa.best_accuracy"
      ]
    },
    {
      "cell_type": "code",
      "execution_count": 8,
      "metadata": {},
      "outputs": [
        {
          "data": {
            "text/plain": [
              "{'beta1': 0.5, 'beta2': 2, 'n_cols': 5, 'alpha': 0.9, 'top_n': 50, 'n_iter': 3}"
            ]
          },
          "execution_count": 8,
          "metadata": {},
          "output_type": "execute_result"
        }
      ],
      "source": [
        "sa.best_params_dict"
      ]
    },
    {
      "cell_type": "code",
      "execution_count": null,
      "metadata": {},
      "outputs": [],
      "source": []
    }
  ],
  "metadata": {
    "colab": {
      "include_colab_link": true,
      "provenance": []
    },
    "kernelspec": {
      "display_name": "Python 3.8.10 64-bit",
      "language": "python",
      "name": "python3"
    },
    "language_info": {
      "codemirror_mode": {
        "name": "ipython",
        "version": 3
      },
      "file_extension": ".py",
      "mimetype": "text/x-python",
      "name": "python",
      "nbconvert_exporter": "python",
      "pygments_lexer": "ipython3",
      "version": "3.8.10"
    },
    "orig_nbformat": 4,
    "vscode": {
      "interpreter": {
        "hash": "31f2aee4e71d21fbe5cf8b01ff0e069b9275f58929596ceb00d14d90e3e16cd6"
      }
    }
  },
  "nbformat": 4,
  "nbformat_minor": 0
}
